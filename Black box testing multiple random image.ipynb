{
 "cells": [
  {
   "cell_type": "code",
   "execution_count": 59,
   "id": "282e9c99-078d-4281-be3d-2677b65ad366",
   "metadata": {},
   "outputs": [],
   "source": [
    "import sys"
   ]
  },
  {
   "cell_type": "code",
   "execution_count": 60,
   "id": "dfeede8b-cb3f-4afe-bb09-fbd97c9a1298",
   "metadata": {},
   "outputs": [],
   "source": [
    "from keras.preprocessing import image\n",
    "import numpy as np"
   ]
  },
  {
   "cell_type": "code",
   "execution_count": 61,
   "id": "85331ff2-638a-4fe8-8866-8ed72cfe90b6",
   "metadata": {},
   "outputs": [],
   "source": [
    "import os\n",
    "import random\n",
    "PATH = './EarVN1.0 dataset/Images/'\n",
    "NUM_IMAGES = 10\n",
    "class_names = []\n",
    "def get_random_img():\n",
    "    random_images_path = []\n",
    "    files = []\n",
    "\n",
    "    for subdir in sorted(os.listdir(PATH)):\n",
    "        subdir_path = os.path.join(PATH, subdir)\n",
    "        class_names.append(subdir)\n",
    "\n",
    "        if os.path.isdir(subdir_path):\n",
    "            temp_files = [f for f in os.listdir(subdir_path) if os.path.isfile(os.path.join(subdir_path, f))]\n",
    "            files.extend([os.path.join(subdir_path, file) for file in temp_files])\n",
    "\n",
    "    return random.sample(files, min(NUM_IMAGES, len(files)))"
   ]
  },
  {
   "cell_type": "code",
   "execution_count": 62,
   "id": "54db80da-2ddc-4c4c-b3ba-cc2579f92165",
   "metadata": {},
   "outputs": [
    {
     "name": "stdout",
     "output_type": "stream",
     "text": [
      "['./EarVN1.0 dataset/Images/087.Tran Th/087 (36).jpg', './EarVN1.0 dataset/Images/034.Huynh_Ph/034 (90).jpg', './EarVN1.0 dataset/Images/004.Binz/004 (112).jpg', './EarVN1.0 dataset/Images/024.Gin_Tuan_K/024 (74).jpg', './EarVN1.0 dataset/Images/024.Gin_Tuan_K/024 (83).jpg', './EarVN1.0 dataset/Images/124.Le_Cat_Trong_L/124 (2).jpg', './EarVN1.0 dataset/Images/114.Kieu_Tr/114 (110).jpg', './EarVN1.0 dataset/Images/100.Angela_Ba/100 (27).jpg', './EarVN1.0 dataset/Images/144.Quynh_Anh_Sh/144 (149).jpg', './EarVN1.0 dataset/Images/124.Le_Cat_Trong_L/124 (46).jpg']\n"
     ]
    }
   ],
   "source": [
    "img_width, img_height = 224, 224\n",
    "random_images_path = get_random_img()\n",
    "print(random_images_path)"
   ]
  },
  {
   "cell_type": "code",
   "execution_count": 63,
   "id": "2dc14cdf-48e4-4860-b3e3-1f5246d7892d",
   "metadata": {},
   "outputs": [
    {
     "name": "stdout",
     "output_type": "stream",
     "text": [
      "['001.ALI_HD', '002.LeDuong_BL', '003.BD_Tran', '004.Binz', '005.Bui_AT', '006.Chau_GK', '007.Chau_KP', '008.Chi_D', '009.Chi_Th', '010.Chu_B', '011.Cong_To', '012.Dai_Nhan', '013.Dam_Vinh_H', '014.Dan_Ng', '015.Dan_Trg', '016.Dang_L', '017.Dao_Ba_L', '018.De_C', '019.Don_Ng', '020.Duong_D', '021.Dustin_Phuc_Ng', '022.Duy_Kh', '023.Erik', '024.Gin_Tuan_K', '025.Ha_Anh_T', '026.Hac_Hoa_K', '027.Hamtet_Tr', '028.Ho_Quang_H', '029.Ho_Trung_D', '030.Hoai_L', '031.Hoang_Rap', '032.Huy_Tr', '033.Huynh_L', '034.Huynh_Ph', '035.Isaac', '036.Jun_Ph', '037.Justatee', '038.Kenvin_Kh', '039.KhacVi', '040.Khuong_Ng', '041.Kieu_Minh_T', '042.Kim_L', '043.L_HA', '044.Lam_Canh_T', '045.Lam_Hu', '046.Lam_Tr', '047.Lam_Vinh_H', '048.Lee_Jong_S', '049.Lee_Min_H', '050.Long_Nh', '051.Lou_Ho', '052.Luong_Bang_Q', '053.Luong_Manh_H', '054.Luong_The_Th', '055.Ly_Dich_P', '056.Mai_Tai_Ph', '057.Nam_Cuog', '058.Ngo_Diec_P', '059.Ngo_Kien_H', '060.Nguyen_Khang', '061.Nguyen_Phi_Hu', '062.Nguyen_Tran_Trung_Qu', '063.Nhan_Phuc_V', '064.Noo_Phuoc_Th', '065.Ong_Cao_Th', '066.OnlyC', '067.Pham_Hong_Ph', '068.Pham_Tr', '069.Phan_A', '070.Phan_M_Quy', '071.Quang_B', '072.Quang_Ha', '073.Quang_Tr', '074.Quy_B', '075.Rym', '076.Sky_ST', '077.Soobin_HS', '078.ST', '079.Ta_Quang_T', '080.Thai_V', '081.Thanh_D', '082.Thanh_Lo', '083.ThanhTr', '084.TIM', '085.Toulive', '086.Tran Dinh Q', '087.Tran Th', '088.Trinh_Thang_B', '089.Trong_Hie', '090.Truc_nh', '091.TrungQua', '092.TruonGNam_th', '093.TruongThe_V', '094.Tuan_Hu', '095.Tung_Dg', '096.Ung_DaiV', '097.UngHoaP', '098.V_rau', '099.Amber', '100.Angela_Ba', '101.Cao_Ng', '102.Cao_Thien_Tr', '103.Cha_Mi', '104.Chau_B', '105.Dich_Le_Nhiet', '106.Do_My_L', '107.Duong_M', '108.Gil_L', '109.Go_Joon_H', '110.H_Hen_N', '111.Hang_Ng', '112.IU', '113.Khong_Tu_Qu', '114.Kieu_Tr', '115.Kim_Hye_S', '116.Kim_Ji_W', '117.Kim_Ng', '118.Kim_Nh', '119.Kim_Ph', '120.Kim_So_H', '121.Kim_Yoo_J', '122.La_Thanh_H', '123.Lan_Kh', '124.Le_Cat_Trong_L', '125.Le_Ph', '126.Le_Thanh_Th', '127.Luu-Diec_P', '128.Ly_Nha_K', '129.Mai_H', '130.Mai_Ng', '131.Mau_Thanh_Th', '132.Mid_Ng', '133.Minh_H', '134.Minh_Tr', '135.Minh_T', '136.Miu_L', '137.My_T', '138.Ngo_Thanh_V', '139.Ngoc_Qu', '140.Nguyen_Thi_Tram', '141.Pham_H', '142.Pham_My_L', '143.Pham_Thanh_H', '144.Quynh_Anh_Sh', '145.Suzy', '146.Tam_T', '147.Thu_M', '148.Thu_Tr', '149.Thuy_H', '150.Toc_T', '151.Tran_Kieu_A', '152.Trang_K', '153.Trang_Ph', '154.Trieu_Le_D', '155.Truong_Quynh_A', '156.Tu_H', '157.Uyen_L', '158.Van_h', '159.Van_Mai_H', '160.Viet_H', '161.Vo_Hoang_Y', '162.Vu_Cat_T', '163.Xa_Thi_M', '164.Yen_Nhi_H']\n"
     ]
    }
   ],
   "source": [
    "print(class_names)"
   ]
  },
  {
   "cell_type": "code",
   "execution_count": 64,
   "id": "36189632-31d4-4df7-8977-31b60b339f88",
   "metadata": {},
   "outputs": [],
   "source": [
    "keras_images = []\n",
    "for random_image in random_images_path:\n",
    "    img = image.load_img(random_image, target_size = (img_width, img_height))\n",
    "    img = image.img_to_array(img)\n",
    "    img = np.expand_dims(img, axis = 0)\n",
    "    keras_images.append(img)"
   ]
  },
  {
   "cell_type": "code",
   "execution_count": 65,
   "id": "55da4e51-63ca-4b50-b13c-6cbb40a93f16",
   "metadata": {},
   "outputs": [],
   "source": [
    "from keras.models import load_model\n",
    "model_path = 'EfficientNetV2-S 100 epoch/best_efficientnetv2s_model_epoch=96_acc=0.9158.h5'\n",
    "model = load_model(model_path)"
   ]
  },
  {
   "cell_type": "code",
   "execution_count": 71,
   "id": "b514f6e5-00c0-4c2d-b79d-d53205bf1183",
   "metadata": {},
   "outputs": [
    {
     "name": "stdout",
     "output_type": "stream",
     "text": [
      "actual name: Tran Th\n",
      "predicted name: Tran Th\n",
      "\n",
      "actual name: Huynh Ph\n",
      "predicted name: Huynh Ph\n",
      "\n",
      "actual name: Binz\n",
      "predicted name: Binz\n",
      "\n",
      "actual name: Gin Tuan K\n",
      "predicted name: Gin Tuan K\n",
      "\n",
      "actual name: Gin Tuan K\n",
      "predicted name: Gin Tuan K\n",
      "\n",
      "actual name: Le Cat Trong L\n",
      "predicted name: Le Cat Trong L\n",
      "\n",
      "actual name: Kieu Tr\n",
      "predicted name: Kieu Tr\n",
      "\n",
      "actual name: Angela Ba\n",
      "predicted name: Truong Quynh A\n",
      "\n",
      "actual name: Quynh Anh Sh\n",
      "predicted name: Quynh Anh Sh\n",
      "\n",
      "actual name: Le Cat Trong L\n",
      "predicted name: Le Cat Trong L\n",
      "\n"
     ]
    }
   ],
   "source": [
    "for img, full_path in zip(keras_images, random_images_path):\n",
    "    pred = model.predict(img, verbose=False)\n",
    "    pred = np.argmax(pred, axis=1)[0]\n",
    "    pred_class = class_names[pred]\n",
    "    actual = full_path.split('/')[3]\n",
    "\n",
    "    actual = actual.split('.')[1].replace('_', ' ')\n",
    "    pred_class = pred_class.split('.')[1].replace('_', ' ')\n",
    "    print(f'actual name: {actual}\\npredicted name: {pred_class}\\n')"
   ]
  }
 ],
 "metadata": {
  "kernelspec": {
   "display_name": "Python 3 (ipykernel)",
   "language": "python",
   "name": "python3"
  },
  "language_info": {
   "codemirror_mode": {
    "name": "ipython",
    "version": 3
   },
   "file_extension": ".py",
   "mimetype": "text/x-python",
   "name": "python",
   "nbconvert_exporter": "python",
   "pygments_lexer": "ipython3",
   "version": "3.9.6"
  }
 },
 "nbformat": 4,
 "nbformat_minor": 5
}
