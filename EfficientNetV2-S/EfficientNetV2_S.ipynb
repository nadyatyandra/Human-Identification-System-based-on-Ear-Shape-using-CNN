{
  "cells": [
    {
      "cell_type": "markdown",
      "metadata": {
        "id": "in_IdsyJZWYO"
      },
      "source": [
        "### Model Training"
      ]
    },
    {
      "cell_type": "code",
      "execution_count": 1,
      "metadata": {
        "colab": {
          "base_uri": "https://localhost:8080/"
        },
        "id": "xon3-iDLY3n-",
        "outputId": "e3dbc695-088b-4e20-8d25-912c306689dc"
      },
      "outputs": [
        {
          "name": "stdout",
          "output_type": "stream",
          "text": [
            "Mounted at /content/drive\n"
          ]
        }
      ],
      "source": [
        "from google.colab import drive\n",
        "drive.mount('/content/drive')"
      ]
    },
    {
      "cell_type": "code",
      "execution_count": 2,
      "metadata": {
        "id": "qvhV_HyGZYhL"
      },
      "outputs": [],
      "source": [
        "import numpy as np\n",
        "import os\n",
        "import PIL\n",
        "import PIL.Image\n",
        "import tensorflow as tf\n",
        "import tensorflow_datasets as tfds"
      ]
    },
    {
      "cell_type": "code",
      "execution_count": 3,
      "metadata": {
        "id": "NECFEDekZYj3"
      },
      "outputs": [],
      "source": [
        "DATA_DIR = '/content/drive/MyDrive/EarVN1.0 dataset/Images'\n",
        "IMG_HEIGHT = 224\n",
        "IMG_WIDTH = 224\n",
        "BATCH_SIZE = 64"
      ]
    },
    {
      "cell_type": "code",
      "execution_count": 4,
      "metadata": {
        "colab": {
          "base_uri": "https://localhost:8080/"
        },
        "id": "9pKxLv-KZYeL",
        "outputId": "2cde6ede-37d9-4f88-8128-ed00c142ebda"
      },
      "outputs": [
        {
          "name": "stdout",
          "output_type": "stream",
          "text": [
            "Found 28412 files belonging to 164 classes.\n",
            "Using 24151 files for training.\n"
          ]
        }
      ],
      "source": [
        "train_val_ds = tf.keras.utils.image_dataset_from_directory(\n",
        "  DATA_DIR,\n",
        "  validation_split=0.15,\n",
        "  label_mode='int',\n",
        "  subset=\"training\",\n",
        "  seed=999,\n",
        "  image_size=(IMG_HEIGHT, IMG_WIDTH),\n",
        "  batch_size=BATCH_SIZE)"
      ]
    },
    {
      "cell_type": "code",
      "execution_count": 5,
      "metadata": {
        "colab": {
          "base_uri": "https://localhost:8080/"
        },
        "id": "6lTiypiuZYmq",
        "outputId": "29e48a64-4dd5-4b61-a61a-ca699046c895"
      },
      "outputs": [
        {
          "name": "stdout",
          "output_type": "stream",
          "text": [
            "Found 28412 files belonging to 164 classes.\n",
            "Using 4261 files for validation.\n"
          ]
        }
      ],
      "source": [
        "test_ds = tf.keras.utils.image_dataset_from_directory(\n",
        "  DATA_DIR,\n",
        "  validation_split=0.15,\n",
        "  label_mode='int',\n",
        "  subset=\"validation\",\n",
        "  seed=999,\n",
        "  image_size=(IMG_HEIGHT, IMG_WIDTH),\n",
        "  batch_size=BATCH_SIZE)"
      ]
    },
    {
      "cell_type": "code",
      "execution_count": 6,
      "metadata": {
        "colab": {
          "base_uri": "https://localhost:8080/"
        },
        "id": "_CFfO8CpZYpM",
        "outputId": "03662663-655a-472d-c524-57ba0e1c8b21"
      },
      "outputs": [
        {
          "data": {
            "text/plain": [
              "<tf.Tensor: shape=(), dtype=int64, numpy=378>"
            ]
          },
          "execution_count": 6,
          "metadata": {},
          "output_type": "execute_result"
        }
      ],
      "source": [
        "train_val_batches = tf.data.experimental.cardinality(train_val_ds)\n",
        "train_val_batches"
      ]
    },
    {
      "cell_type": "code",
      "execution_count": 7,
      "metadata": {
        "colab": {
          "base_uri": "https://localhost:8080/"
        },
        "id": "uYvjqgjVZqOz",
        "outputId": "49210524-495e-46d5-b276-adee2cf92851"
      },
      "outputs": [
        {
          "name": "stdout",
          "output_type": "stream",
          "text": [
            "378\n",
            "302\n",
            "76\n"
          ]
        }
      ],
      "source": [
        "TOTAL_TRAIN_VAL = len(train_val_ds)\n",
        "print(TOTAL_TRAIN_VAL)\n",
        "train_ds = train_val_ds.take(int(8 * train_val_batches / 10))\n",
        "val_ds = train_val_ds.skip(int(8 * train_val_batches / 10))\n",
        "print(len(train_ds))\n",
        "print(len(val_ds))"
      ]
    },
    {
      "cell_type": "code",
      "execution_count": 8,
      "metadata": {
        "colab": {
          "base_uri": "https://localhost:8080/"
        },
        "id": "EyRlm-FNZqRs",
        "outputId": "d80edc34-d29e-4f44-c4c9-7fce6f1b2691"
      },
      "outputs": [
        {
          "data": {
            "text/plain": [
              "<_TakeDataset element_spec=(TensorSpec(shape=(None, 224, 224, 3), dtype=tf.float32, name=None), TensorSpec(shape=(None,), dtype=tf.int32, name=None))>"
            ]
          },
          "execution_count": 8,
          "metadata": {},
          "output_type": "execute_result"
        }
      ],
      "source": [
        "train_ds"
      ]
    },
    {
      "cell_type": "code",
      "execution_count": 9,
      "metadata": {
        "colab": {
          "base_uri": "https://localhost:8080/"
        },
        "id": "g8MS7ZAbZq3p",
        "outputId": "1e293e53-d86d-452d-a6f4-db6e4e90d536"
      },
      "outputs": [
        {
          "name": "stdout",
          "output_type": "stream",
          "text": [
            "Downloading data from https://storage.googleapis.com/tensorflow/keras-applications/efficientnet_v2/efficientnetv2-s_notop.h5\n",
            "82420632/82420632 [==============================] - 0s 0us/step\n"
          ]
        }
      ],
      "source": [
        "base_model_EfficientNetV2S = tf.keras.applications.EfficientNetV2S(\n",
        "    include_top=False,\n",
        "    weights='imagenet',\n",
        "    input_shape=(224, 224, 3)\n",
        ")"
      ]
    },
    {
      "cell_type": "code",
      "execution_count": 10,
      "metadata": {
        "id": "G3W495SgaiCJ"
      },
      "outputs": [],
      "source": [
        "from tensorflow.keras.optimizers import RMSprop\n",
        "from keras.preprocessing import image\n",
        "from tensorflow.keras.preprocessing.image import ImageDataGenerator\n",
        "from tensorflow.keras.layers import Dense, Flatten, Conv2D, MaxPooling2D, Dropout, BatchNormalization, GlobalAveragePooling2D, GlobalMaxPooling2D\n",
        "\n",
        "model = tf.keras.Sequential()\n",
        "model.add(base_model_EfficientNetV2S)\n",
        "model.add(GlobalMaxPooling2D())\n",
        "model.add(Dense(4096, activation = 'relu'))\n",
        "model.add(Dropout(0.2))\n",
        "model.add(Dense(164, activation = 'softmax'))"
      ]
    },
    {
      "cell_type": "code",
      "execution_count": 11,
      "metadata": {
        "colab": {
          "base_uri": "https://localhost:8080/"
        },
        "id": "ORtYvzNDaiEw",
        "outputId": "f59905a4-6bd0-4b0a-9433-9b4939d63ab7"
      },
      "outputs": [
        {
          "name": "stdout",
          "output_type": "stream",
          "text": [
            "Model: \"sequential\"\n",
            "_________________________________________________________________\n",
            " Layer (type)                Output Shape              Param #   \n",
            "=================================================================\n",
            " efficientnetv2-s (Function  (None, 7, 7, 1280)        20331360  \n",
            " al)                                                             \n",
            "                                                                 \n",
            " global_max_pooling2d (Glob  (None, 1280)              0         \n",
            " alMaxPooling2D)                                                 \n",
            "                                                                 \n",
            " dense (Dense)               (None, 4096)              5246976   \n",
            "                                                                 \n",
            " dropout (Dropout)           (None, 4096)              0         \n",
            "                                                                 \n",
            " dense_1 (Dense)             (None, 164)               671908    \n",
            "                                                                 \n",
            "=================================================================\n",
            "Total params: 26250244 (100.14 MB)\n",
            "Trainable params: 26096372 (99.55 MB)\n",
            "Non-trainable params: 153872 (601.06 KB)\n",
            "_________________________________________________________________\n"
          ]
        }
      ],
      "source": [
        "model.summary()"
      ]
    },
    {
      "cell_type": "code",
      "execution_count": 12,
      "metadata": {
        "id": "B6yyxbSwaiHS"
      },
      "outputs": [],
      "source": [
        "from tensorflow.keras import optimizers, losses\n",
        "model.compile(optimizer=optimizers.Adam(learning_rate=3e-4), loss='sparse_categorical_crossentropy', metrics='accuracy')"
      ]
    },
    {
      "cell_type": "code",
      "execution_count": 13,
      "metadata": {
        "id": "iKWCDNLBao-G"
      },
      "outputs": [],
      "source": [
        "from tensorflow.keras.callbacks import ModelCheckpoint\n",
        "mc = ModelCheckpoint(\n",
        "    filepath='./best_efficientnetv2s_model_epoch={epoch:02d}_acc={val_accuracy:0.4f}.h5',\n",
        "    monitor=\"val_accuracy\",\n",
        "    verbose=1,\n",
        "    save_best_only=True,\n",
        "    save_weights_only=False,\n",
        "    mode='max',\n",
        "    save_freq='epoch'\n",
        ")"
      ]
    },
    {
      "cell_type": "code",
      "execution_count": null,
      "metadata": {
        "colab": {
          "base_uri": "https://localhost:8080/"
        },
        "id": "p-evULrEapA5",
        "outputId": "481a2bbe-ee71-4b34-d886-0f1c269e307a"
      },
      "outputs": [
        {
          "name": "stdout",
          "output_type": "stream",
          "text": [
            "Epoch 1/50\n",
            "302/302 [==============================] - ETA: 0s - loss: 4.3141 - accuracy: 0.0751\n",
            "Epoch 1: val_accuracy improved from -inf to 0.30168, saving model to ./best_efficcientnetv2s_model_epoch=01_acc=0.3017.h5\n"
          ]
        },
        {
          "name": "stderr",
          "output_type": "stream",
          "text": [
            "/usr/local/lib/python3.10/dist-packages/keras/src/engine/training.py:3103: UserWarning: You are saving your model as an HDF5 file via `model.save()`. This file format is considered legacy. We recommend using instead the native Keras format, e.g. `model.save('my_model.keras')`.\n",
            "  saving_api.save_model(\n"
          ]
        },
        {
          "name": "stdout",
          "output_type": "stream",
          "text": [
            "\b\b\b\b\b\b\b\b\b\b\b\b\b\b\b\b\b\b\b\b\b\b\b\b\b\b\b\b\b\b\b\b\b\b\b\b\b\b\b\b\b\b\b\b\b\b\b\b\b\b\b\b\b\b\b\b\b\b\b\b\b\b\b\b\b\b\b\b\b\b\b\b\b\b\b\b\b\b\b\b\b\b\b\b\r302/302 [==============================] - 3234s 10s/step - loss: 4.3141 - accuracy: 0.0751 - val_loss: 2.7444 - val_accuracy: 0.3017\n",
            "Epoch 2/50\n",
            "302/302 [==============================] - ETA: 0s - loss: 1.7847 - accuracy: 0.5246\n",
            "Epoch 2: val_accuracy improved from 0.30168 to 0.72299, saving model to ./best_efficcientnetv2s_model_epoch=02_acc=0.7230.h5\n",
            "302/302 [==============================] - 383s 1s/step - loss: 1.7847 - accuracy: 0.5246 - val_loss: 1.0135 - val_accuracy: 0.7230\n",
            "Epoch 3/50\n",
            "302/302 [==============================] - ETA: 0s - loss: 0.6407 - accuracy: 0.8157\n",
            "Epoch 3: val_accuracy improved from 0.72299 to 0.80365, saving model to ./best_efficcientnetv2s_model_epoch=03_acc=0.8036.h5\n",
            "302/302 [==============================] - 382s 1s/step - loss: 0.6407 - accuracy: 0.8157 - val_loss: 0.7220 - val_accuracy: 0.8036\n",
            "Epoch 4/50\n",
            "302/302 [==============================] - ETA: 0s - loss: 0.3089 - accuracy: 0.9064\n",
            "Epoch 4: val_accuracy improved from 0.80365 to 0.84014, saving model to ./best_efficcientnetv2s_model_epoch=04_acc=0.8401.h5\n",
            "302/302 [==============================] - 391s 1s/step - loss: 0.3089 - accuracy: 0.9064 - val_loss: 0.6491 - val_accuracy: 0.8401\n",
            "Epoch 5/50\n",
            "302/302 [==============================] - ETA: 0s - loss: 0.2003 - accuracy: 0.9380\n",
            "Epoch 5: val_accuracy did not improve from 0.84014\n",
            "302/302 [==============================] - 380s 1s/step - loss: 0.2003 - accuracy: 0.9380 - val_loss: 0.6958 - val_accuracy: 0.8335\n",
            "Epoch 6/50\n",
            "302/302 [==============================] - ETA: 0s - loss: 0.1454 - accuracy: 0.9543\n",
            "Epoch 6: val_accuracy improved from 0.84014 to 0.85714, saving model to ./best_efficcientnetv2s_model_epoch=06_acc=0.8571.h5\n",
            "302/302 [==============================] - 385s 1s/step - loss: 0.1454 - accuracy: 0.9543 - val_loss: 0.6148 - val_accuracy: 0.8571\n",
            "Epoch 7/50\n",
            "302/302 [==============================] - ETA: 0s - loss: 0.1254 - accuracy: 0.9619\n",
            "Epoch 7: val_accuracy did not improve from 0.85714\n",
            "302/302 [==============================] - 384s 1s/step - loss: 0.1254 - accuracy: 0.9619 - val_loss: 0.6171 - val_accuracy: 0.8557\n",
            "Epoch 8/50\n",
            "302/302 [==============================] - ETA: 0s - loss: 0.1159 - accuracy: 0.9638\n",
            "Epoch 8: val_accuracy improved from 0.85714 to 0.86025, saving model to ./best_efficcientnetv2s_model_epoch=08_acc=0.8603.h5\n",
            "302/302 [==============================] - 383s 1s/step - loss: 0.1159 - accuracy: 0.9638 - val_loss: 0.5911 - val_accuracy: 0.8603\n",
            "Epoch 9/50\n",
            "302/302 [==============================] - ETA: 0s - loss: 0.0907 - accuracy: 0.9724\n",
            "Epoch 9: val_accuracy did not improve from 0.86025\n",
            "302/302 [==============================] - 386s 1s/step - loss: 0.0907 - accuracy: 0.9724 - val_loss: 0.6309 - val_accuracy: 0.8576\n",
            "Epoch 10/50\n",
            "302/302 [==============================] - ETA: 0s - loss: 0.0836 - accuracy: 0.9735\n",
            "Epoch 10: val_accuracy improved from 0.86025 to 0.86772, saving model to ./best_efficcientnetv2s_model_epoch=10_acc=0.8677.h5\n",
            "302/302 [==============================] - 386s 1s/step - loss: 0.0836 - accuracy: 0.9735 - val_loss: 0.6178 - val_accuracy: 0.8677\n",
            "Epoch 11/50\n",
            "302/302 [==============================] - ETA: 0s - loss: 0.0828 - accuracy: 0.9763\n",
            "Epoch 11: val_accuracy improved from 0.86772 to 0.87000, saving model to ./best_efficcientnetv2s_model_epoch=11_acc=0.8700.h5\n",
            "302/302 [==============================] - 384s 1s/step - loss: 0.0828 - accuracy: 0.9763 - val_loss: 0.5906 - val_accuracy: 0.8700\n",
            "Epoch 12/50\n",
            "302/302 [==============================] - ETA: 0s - loss: 0.0817 - accuracy: 0.9765\n",
            "Epoch 12: val_accuracy did not improve from 0.87000\n",
            "302/302 [==============================] - 384s 1s/step - loss: 0.0817 - accuracy: 0.9765 - val_loss: 0.6182 - val_accuracy: 0.8690\n",
            "Epoch 13/50\n",
            "302/302 [==============================] - ETA: 0s - loss: 0.0780 - accuracy: 0.9760\n",
            "Epoch 13: val_accuracy did not improve from 0.87000\n",
            "302/302 [==============================] - 379s 1s/step - loss: 0.0780 - accuracy: 0.9760 - val_loss: 0.5943 - val_accuracy: 0.8671\n",
            "Epoch 14/50\n",
            "302/302 [==============================] - ETA: 0s - loss: 0.0738 - accuracy: 0.9775\n",
            "Epoch 14: val_accuracy did not improve from 0.87000\n",
            "302/302 [==============================] - 386s 1s/step - loss: 0.0738 - accuracy: 0.9775 - val_loss: 0.5937 - val_accuracy: 0.8642\n",
            "Epoch 15/50\n",
            "302/302 [==============================] - ETA: 0s - loss: 0.0724 - accuracy: 0.9774\n",
            "Epoch 15: val_accuracy did not improve from 0.87000\n",
            "302/302 [==============================] - 377s 1s/step - loss: 0.0724 - accuracy: 0.9774 - val_loss: 0.6383 - val_accuracy: 0.8569\n",
            "Epoch 16/50\n",
            "302/302 [==============================] - ETA: 0s - loss: 0.0622 - accuracy: 0.9818\n",
            "Epoch 16: val_accuracy improved from 0.87000 to 0.87311, saving model to ./best_efficcientnetv2s_model_epoch=16_acc=0.8731.h5\n",
            "302/302 [==============================] - 382s 1s/step - loss: 0.0622 - accuracy: 0.9818 - val_loss: 0.5874 - val_accuracy: 0.8731\n",
            "Epoch 17/50\n",
            "302/302 [==============================] - ETA: 0s - loss: 0.0579 - accuracy: 0.9820\n",
            "Epoch 17: val_accuracy improved from 0.87311 to 0.87518, saving model to ./best_efficcientnetv2s_model_epoch=17_acc=0.8752.h5\n",
            "302/302 [==============================] - 386s 1s/step - loss: 0.0579 - accuracy: 0.9820 - val_loss: 0.5518 - val_accuracy: 0.8752\n",
            "Epoch 18/50\n",
            "302/302 [==============================] - ETA: 0s - loss: 0.0671 - accuracy: 0.9786\n",
            "Epoch 18: val_accuracy did not improve from 0.87518\n",
            "302/302 [==============================] - 382s 1s/step - loss: 0.0671 - accuracy: 0.9786 - val_loss: 0.5894 - val_accuracy: 0.8692\n",
            "Epoch 19/50\n",
            "302/302 [==============================] - ETA: 0s - loss: 0.0605 - accuracy: 0.9815\n",
            "Epoch 19: val_accuracy improved from 0.87518 to 0.88285, saving model to ./best_efficcientnetv2s_model_epoch=19_acc=0.8829.h5\n",
            "302/302 [==============================] - 378s 1s/step - loss: 0.0605 - accuracy: 0.9815 - val_loss: 0.5460 - val_accuracy: 0.8829\n",
            "Epoch 20/50\n",
            "302/302 [==============================] - ETA: 0s - loss: 0.0558 - accuracy: 0.9842\n",
            "Epoch 20: val_accuracy did not improve from 0.88285\n",
            "302/302 [==============================] - 381s 1s/step - loss: 0.0558 - accuracy: 0.9842 - val_loss: 0.6495 - val_accuracy: 0.8669\n",
            "Epoch 21/50\n",
            "302/302 [==============================] - ETA: 0s - loss: 0.0488 - accuracy: 0.9855\n",
            "Epoch 21: val_accuracy did not improve from 0.88285\n",
            "302/302 [==============================] - 383s 1s/step - loss: 0.0488 - accuracy: 0.9855 - val_loss: 0.5359 - val_accuracy: 0.8812\n",
            "Epoch 22/50\n",
            "302/302 [==============================] - ETA: 0s - loss: 0.0572 - accuracy: 0.9831\n",
            "Epoch 22: val_accuracy improved from 0.88285 to 0.88762, saving model to ./best_efficcientnetv2s_model_epoch=22_acc=0.8876.h5\n",
            "302/302 [==============================] - 383s 1s/step - loss: 0.0572 - accuracy: 0.9831 - val_loss: 0.5437 - val_accuracy: 0.8876\n",
            "Epoch 23/50\n",
            "302/302 [==============================] - ETA: 0s - loss: 0.0492 - accuracy: 0.9847\n",
            "Epoch 23: val_accuracy did not improve from 0.88762\n",
            "302/302 [==============================] - 377s 1s/step - loss: 0.0492 - accuracy: 0.9847 - val_loss: 0.5476 - val_accuracy: 0.8841\n",
            "Epoch 24/50\n",
            "302/302 [==============================] - ETA: 0s - loss: 0.0549 - accuracy: 0.9835\n",
            "Epoch 24: val_accuracy improved from 0.88762 to 0.89156, saving model to ./best_efficcientnetv2s_model_epoch=24_acc=0.8916.h5\n",
            "302/302 [==============================] - 391s 1s/step - loss: 0.0549 - accuracy: 0.9835 - val_loss: 0.5227 - val_accuracy: 0.8916\n",
            "Epoch 25/50\n",
            "302/302 [==============================] - ETA: 0s - loss: 0.0409 - accuracy: 0.9883\n",
            "Epoch 25: val_accuracy improved from 0.89156 to 0.89674, saving model to ./best_efficcientnetv2s_model_epoch=25_acc=0.8967.h5\n",
            "302/302 [==============================] - 381s 1s/step - loss: 0.0409 - accuracy: 0.9883 - val_loss: 0.4592 - val_accuracy: 0.8967\n",
            "Epoch 26/50\n",
            "302/302 [==============================] - ETA: 0s - loss: 0.0440 - accuracy: 0.9870\n",
            "Epoch 26: val_accuracy did not improve from 0.89674\n",
            "302/302 [==============================] - 384s 1s/step - loss: 0.0440 - accuracy: 0.9870 - val_loss: 0.5019 - val_accuracy: 0.8897\n",
            "Epoch 27/50\n",
            "302/302 [==============================] - ETA: 0s - loss: 0.0538 - accuracy: 0.9846\n",
            "Epoch 27: val_accuracy did not improve from 0.89674\n",
            "302/302 [==============================] - 376s 1s/step - loss: 0.0538 - accuracy: 0.9846 - val_loss: 0.6446 - val_accuracy: 0.8659\n",
            "Epoch 28/50\n",
            "302/302 [==============================] - ETA: 0s - loss: 0.0512 - accuracy: 0.9841\n",
            "Epoch 28: val_accuracy did not improve from 0.89674\n",
            "302/302 [==============================] - 378s 1s/step - loss: 0.0512 - accuracy: 0.9841 - val_loss: 0.5964 - val_accuracy: 0.8783\n",
            "Epoch 29/50\n",
            "302/302 [==============================] - ETA: 0s - loss: 0.0470 - accuracy: 0.9856\n",
            "Epoch 29: val_accuracy did not improve from 0.89674\n",
            "302/302 [==============================] - 385s 1s/step - loss: 0.0470 - accuracy: 0.9856 - val_loss: 0.5377 - val_accuracy: 0.8907\n",
            "Epoch 30/50\n",
            "302/302 [==============================] - ETA: 0s - loss: 0.0413 - accuracy: 0.9876\n",
            "Epoch 30: val_accuracy did not improve from 0.89674\n",
            "302/302 [==============================] - 381s 1s/step - loss: 0.0413 - accuracy: 0.9876 - val_loss: 0.5675 - val_accuracy: 0.8831\n",
            "Epoch 31/50\n",
            "302/302 [==============================] - ETA: 0s - loss: 0.0355 - accuracy: 0.9893\n",
            "Epoch 31: val_accuracy did not improve from 0.89674\n",
            "302/302 [==============================] - 384s 1s/step - loss: 0.0355 - accuracy: 0.9893 - val_loss: 0.6418 - val_accuracy: 0.8727\n",
            "Epoch 32/50\n",
            "302/302 [==============================] - ETA: 0s - loss: 0.0430 - accuracy: 0.9873\n",
            "Epoch 32: val_accuracy did not improve from 0.89674\n",
            "302/302 [==============================] - 377s 1s/step - loss: 0.0430 - accuracy: 0.9873 - val_loss: 0.5001 - val_accuracy: 0.8918\n",
            "Epoch 33/50\n",
            "302/302 [==============================] - ETA: 0s - loss: 0.0343 - accuracy: 0.9893\n",
            "Epoch 33: val_accuracy did not improve from 0.89674\n",
            "302/302 [==============================] - 387s 1s/step - loss: 0.0343 - accuracy: 0.9893 - val_loss: 0.5209 - val_accuracy: 0.8895\n",
            "Epoch 34/50\n",
            "302/302 [==============================] - ETA: 0s - loss: 0.0435 - accuracy: 0.9876\n",
            "Epoch 34: val_accuracy did not improve from 0.89674\n",
            "302/302 [==============================] - 376s 1s/step - loss: 0.0435 - accuracy: 0.9876 - val_loss: 0.4805 - val_accuracy: 0.8901\n",
            "Epoch 35/50\n",
            "302/302 [==============================] - ETA: 0s - loss: 0.0401 - accuracy: 0.9886\n",
            "Epoch 35: val_accuracy did not improve from 0.89674\n",
            "302/302 [==============================] - 370s 1s/step - loss: 0.0401 - accuracy: 0.9886 - val_loss: 0.4907 - val_accuracy: 0.8936\n",
            "Epoch 36/50\n",
            "302/302 [==============================] - ETA: 0s - loss: 0.0381 - accuracy: 0.9880\n",
            "Epoch 36: val_accuracy did not improve from 0.89674\n",
            "302/302 [==============================] - 453s 1s/step - loss: 0.0381 - accuracy: 0.9880 - val_loss: 0.5282 - val_accuracy: 0.8961\n",
            "Epoch 37/50\n",
            "302/302 [==============================] - ETA: 0s - loss: 0.0399 - accuracy: 0.9880\n",
            "Epoch 37: val_accuracy improved from 0.89674 to 0.90462, saving model to ./best_efficcientnetv2s_model_epoch=37_acc=0.9046.h5\n",
            "302/302 [==============================] - 376s 1s/step - loss: 0.0399 - accuracy: 0.9880 - val_loss: 0.4435 - val_accuracy: 0.9046\n",
            "Epoch 38/50\n",
            "302/302 [==============================] - ETA: 0s - loss: 0.0251 - accuracy: 0.9926\n",
            "Epoch 38: val_accuracy did not improve from 0.90462\n",
            "302/302 [==============================] - 377s 1s/step - loss: 0.0251 - accuracy: 0.9926 - val_loss: 0.5591 - val_accuracy: 0.8914\n",
            "Epoch 39/50\n",
            "302/302 [==============================] - ETA: 0s - loss: 0.0414 - accuracy: 0.9884\n",
            "Epoch 39: val_accuracy did not improve from 0.90462\n",
            "302/302 [==============================] - 379s 1s/step - loss: 0.0414 - accuracy: 0.9884 - val_loss: 0.4979 - val_accuracy: 0.8918\n",
            "Epoch 40/50\n",
            " 95/302 [========>.....................] - ETA: 3:27 - loss: 0.0373 - accuracy: 0.9882"
          ]
        }
      ],
      "source": [
        "results = model.fit(train_ds, validation_data=val_ds, epochs=50, batch_size=64, callbacks=[mc])"
      ]
    }
  ],
  "metadata": {
    "accelerator": "GPU",
    "colab": {
      "gpuType": "T4",
      "provenance": []
    },
    "kernelspec": {
      "display_name": "Python 3",
      "name": "python3"
    },
    "language_info": {
      "name": "python"
    }
  },
  "nbformat": 4,
  "nbformat_minor": 0
}
