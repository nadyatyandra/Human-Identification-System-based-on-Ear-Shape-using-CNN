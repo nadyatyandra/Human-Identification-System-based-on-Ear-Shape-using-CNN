{
  "cells": [
    {
      "cell_type": "markdown",
      "metadata": {
        "id": "in_IdsyJZWYO"
      },
      "source": [
        "### Model Training"
      ]
    },
    {
      "cell_type": "code",
      "execution_count": 12,
      "metadata": {
        "colab": {
          "base_uri": "https://localhost:8080/"
        },
        "id": "xon3-iDLY3n-",
        "outputId": "511c6227-45dc-420c-9109-49b0c25c16c4"
      },
      "outputs": [
        {
          "name": "stdout",
          "output_type": "stream",
          "text": [
            "Drive already mounted at /content/drive; to attempt to forcibly remount, call drive.mount(\"/content/drive\", force_remount=True).\n"
          ]
        }
      ],
      "source": [
        "from google.colab import drive\n",
        "drive.mount('/content/drive')"
      ]
    },
    {
      "cell_type": "code",
      "execution_count": 14,
      "metadata": {
        "id": "qvhV_HyGZYhL"
      },
      "outputs": [],
      "source": [
        "import numpy as np\n",
        "import os\n",
        "import PIL\n",
        "import PIL.Image\n",
        "import tensorflow as tf\n",
        "import tensorflow_datasets as tfds"
      ]
    },
    {
      "cell_type": "code",
      "execution_count": 15,
      "metadata": {
        "id": "NECFEDekZYj3"
      },
      "outputs": [],
      "source": [
        "DATA_DIR = '/content/drive/MyDrive/EarVN1.0 dataset/Images'\n",
        "IMG_HEIGHT = 224\n",
        "IMG_WIDTH = 224\n",
        "BATCH_SIZE = 64"
      ]
    },
    {
      "cell_type": "code",
      "execution_count": 16,
      "metadata": {
        "colab": {
          "base_uri": "https://localhost:8080/"
        },
        "id": "9pKxLv-KZYeL",
        "outputId": "dda00b7d-9c19-48d1-89a2-89221ef63278"
      },
      "outputs": [
        {
          "name": "stdout",
          "output_type": "stream",
          "text": [
            "Found 28412 files belonging to 164 classes.\n",
            "Using 24151 files for training.\n"
          ]
        }
      ],
      "source": [
        "train_val_ds = tf.keras.utils.image_dataset_from_directory(\n",
        "  DATA_DIR,\n",
        "  validation_split=0.15,\n",
        "  label_mode='int',\n",
        "  subset=\"training\",\n",
        "  seed=999,\n",
        "  image_size=(IMG_HEIGHT, IMG_WIDTH),\n",
        "  batch_size=BATCH_SIZE)"
      ]
    },
    {
      "cell_type": "code",
      "execution_count": 17,
      "metadata": {
        "colab": {
          "base_uri": "https://localhost:8080/"
        },
        "id": "6lTiypiuZYmq",
        "outputId": "cf24bc35-664c-4e22-dd05-23afcad74c56"
      },
      "outputs": [
        {
          "name": "stdout",
          "output_type": "stream",
          "text": [
            "Found 28412 files belonging to 164 classes.\n",
            "Using 4261 files for validation.\n"
          ]
        }
      ],
      "source": [
        "test_ds = tf.keras.utils.image_dataset_from_directory(\n",
        "  DATA_DIR,\n",
        "  validation_split=0.15,\n",
        "  label_mode='int',\n",
        "  subset=\"validation\",\n",
        "  seed=999,\n",
        "  image_size=(IMG_HEIGHT, IMG_WIDTH),\n",
        "  batch_size=BATCH_SIZE)"
      ]
    },
    {
      "cell_type": "code",
      "execution_count": 18,
      "metadata": {
        "colab": {
          "base_uri": "https://localhost:8080/"
        },
        "id": "_CFfO8CpZYpM",
        "outputId": "9ec95918-58ff-4648-fe13-24c9c7105597"
      },
      "outputs": [
        {
          "data": {
            "text/plain": [
              "<tf.Tensor: shape=(), dtype=int64, numpy=378>"
            ]
          },
          "execution_count": 18,
          "metadata": {},
          "output_type": "execute_result"
        }
      ],
      "source": [
        "train_val_batches = tf.data.experimental.cardinality(train_val_ds)\n",
        "train_val_batches"
      ]
    },
    {
      "cell_type": "code",
      "execution_count": 19,
      "metadata": {
        "colab": {
          "base_uri": "https://localhost:8080/"
        },
        "id": "uYvjqgjVZqOz",
        "outputId": "08ba60b0-1242-477f-f161-efa115ba908f"
      },
      "outputs": [
        {
          "name": "stdout",
          "output_type": "stream",
          "text": [
            "378\n",
            "302\n",
            "76\n"
          ]
        }
      ],
      "source": [
        "TOTAL_TRAIN_VAL = len(train_val_ds)\n",
        "print(TOTAL_TRAIN_VAL)\n",
        "train_ds = train_val_ds.take(int(8 * train_val_batches / 10))\n",
        "val_ds = train_val_ds.skip(int(8 * train_val_batches / 10))\n",
        "print(len(train_ds))\n",
        "print(len(val_ds))"
      ]
    },
    {
      "cell_type": "code",
      "execution_count": 8,
      "metadata": {
        "colab": {
          "base_uri": "https://localhost:8080/"
        },
        "id": "EyRlm-FNZqRs",
        "outputId": "876b20d4-19c3-4cc0-cd16-51847bd38811"
      },
      "outputs": [
        {
          "data": {
            "text/plain": [
              "<_TakeDataset element_spec=(TensorSpec(shape=(None, 224, 224, 3), dtype=tf.float32, name=None), TensorSpec(shape=(None,), dtype=tf.int32, name=None))>"
            ]
          },
          "execution_count": 8,
          "metadata": {},
          "output_type": "execute_result"
        }
      ],
      "source": [
        "train_ds"
      ]
    },
    {
      "cell_type": "code",
      "execution_count": 9,
      "metadata": {
        "id": "iKWCDNLBao-G"
      },
      "outputs": [],
      "source": [
        "from tensorflow.keras.callbacks import ModelCheckpoint\n",
        "mc = ModelCheckpoint(\n",
        "    filepath='./best_efficientnetv2s_model_epoch={epoch:02d}_acc={val_accuracy:0.4f}.h5',\n",
        "    monitor=\"val_accuracy\",\n",
        "    verbose=1,\n",
        "    save_best_only=True,\n",
        "    save_weights_only=False,\n",
        "    mode='max',\n",
        "    save_freq='epoch'\n",
        ")"
      ]
    },
    {
      "cell_type": "code",
      "execution_count": 20,
      "metadata": {
        "id": "p47pmFLszUPg"
      },
      "outputs": [],
      "source": [
        "from keras.models import load_model\n",
        "\n",
        "model_path = '/content/drive/MyDrive/Colab Notebooks/best_efficientnetv2s_model_epoch=37_acc=0.9046.h5'\n",
        "\n",
        "model = load_model(model_path)"
      ]
    },
    {
      "cell_type": "code",
      "execution_count": 11,
      "metadata": {
        "colab": {
          "base_uri": "https://localhost:8080/"
        },
        "id": "p-evULrEapA5",
        "outputId": "2d69f0bd-47a5-46fa-c0eb-b63a1dd7ab84"
      },
      "outputs": [
        {
          "name": "stdout",
          "output_type": "stream",
          "text": [
            "Epoch 1/13\n",
            "302/302 [==============================] - ETA: 0s - loss: 0.0318 - accuracy: 0.9905 \n",
            "Epoch 1: val_accuracy improved from -inf to 0.89778, saving model to ./best_efficientnetv2s_model_epoch=01_acc=0.8978.h5\n"
          ]
        },
        {
          "name": "stderr",
          "output_type": "stream",
          "text": [
            "/usr/local/lib/python3.10/dist-packages/keras/src/engine/training.py:3103: UserWarning: You are saving your model as an HDF5 file via `model.save()`. This file format is considered legacy. We recommend using instead the native Keras format, e.g. `model.save('my_model.keras')`.\n",
            "  saving_api.save_model(\n"
          ]
        },
        {
          "name": "stdout",
          "output_type": "stream",
          "text": [
            "\b\b\b\b\b\b\b\b\b\b\b\b\b\b\b\b\b\b\b\b\b\b\b\b\b\b\b\b\b\b\b\b\b\b\b\b\b\b\b\b\b\b\b\b\b\b\b\b\b\b\b\b\b\b\b\b\b\b\b\b\b\b\b\b\b\b\b\b\b\b\b\b\b\b\b\b\b\b\b\b\b\b\b\b\r302/302 [==============================] - 4356s 14s/step - loss: 0.0318 - accuracy: 0.9905 - val_loss: 0.4738 - val_accuracy: 0.8978\n",
            "Epoch 2/13\n",
            "302/302 [==============================] - ETA: 0s - loss: 0.0340 - accuracy: 0.9898\n",
            "Epoch 2: val_accuracy improved from 0.89778 to 0.90214, saving model to ./best_efficientnetv2s_model_epoch=02_acc=0.9021.h5\n",
            "302/302 [==============================] - 444s 1s/step - loss: 0.0340 - accuracy: 0.9898 - val_loss: 0.5194 - val_accuracy: 0.9021\n",
            "Epoch 3/13\n",
            "302/302 [==============================] - ETA: 0s - loss: 0.0344 - accuracy: 0.9889\n",
            "Epoch 3: val_accuracy did not improve from 0.90214\n",
            "302/302 [==============================] - 385s 1s/step - loss: 0.0344 - accuracy: 0.9889 - val_loss: 0.5089 - val_accuracy: 0.8963\n",
            "Epoch 4/13\n",
            "302/302 [==============================] - ETA: 0s - loss: 0.0362 - accuracy: 0.9889\n",
            "Epoch 4: val_accuracy did not improve from 0.90214\n",
            "302/302 [==============================] - 382s 1s/step - loss: 0.0362 - accuracy: 0.9889 - val_loss: 0.5570 - val_accuracy: 0.8911\n",
            "Epoch 5/13\n",
            "302/302 [==============================] - ETA: 0s - loss: 0.0352 - accuracy: 0.9903\n",
            "Epoch 5: val_accuracy did not improve from 0.90214\n",
            "302/302 [==============================] - 383s 1s/step - loss: 0.0352 - accuracy: 0.9903 - val_loss: 0.5232 - val_accuracy: 0.8994\n",
            "Epoch 6/13\n",
            "302/302 [==============================] - ETA: 0s - loss: 0.0270 - accuracy: 0.9926\n",
            "Epoch 6: val_accuracy did not improve from 0.90214\n",
            "302/302 [==============================] - 382s 1s/step - loss: 0.0270 - accuracy: 0.9926 - val_loss: 0.5053 - val_accuracy: 0.8974\n",
            "Epoch 7/13\n",
            "302/302 [==============================] - ETA: 0s - loss: 0.0290 - accuracy: 0.9919\n",
            "Epoch 7: val_accuracy did not improve from 0.90214\n",
            "302/302 [==============================] - 383s 1s/step - loss: 0.0290 - accuracy: 0.9919 - val_loss: 0.5813 - val_accuracy: 0.8864\n",
            "Epoch 8/13\n",
            "302/302 [==============================] - ETA: 0s - loss: 0.0358 - accuracy: 0.9886\n",
            "Epoch 8: val_accuracy did not improve from 0.90214\n",
            "302/302 [==============================] - 384s 1s/step - loss: 0.0358 - accuracy: 0.9886 - val_loss: 0.5211 - val_accuracy: 0.8940\n",
            "Epoch 9/13\n",
            "302/302 [==============================] - ETA: 0s - loss: 0.0278 - accuracy: 0.9911\n",
            "Epoch 9: val_accuracy improved from 0.90214 to 0.90234, saving model to ./best_efficientnetv2s_model_epoch=09_acc=0.9023.h5\n",
            "302/302 [==============================] - 384s 1s/step - loss: 0.0278 - accuracy: 0.9911 - val_loss: 0.5206 - val_accuracy: 0.9023\n",
            "Epoch 10/13\n",
            "302/302 [==============================] - ETA: 0s - loss: 0.0358 - accuracy: 0.9892\n",
            "Epoch 10: val_accuracy improved from 0.90234 to 0.90483, saving model to ./best_efficientnetv2s_model_epoch=10_acc=0.9048.h5\n",
            "302/302 [==============================] - 447s 1s/step - loss: 0.0358 - accuracy: 0.9892 - val_loss: 0.4764 - val_accuracy: 0.9048\n",
            "Epoch 11/13\n",
            "302/302 [==============================] - ETA: 0s - loss: 0.0297 - accuracy: 0.9910\n",
            "Epoch 11: val_accuracy improved from 0.90483 to 0.90608, saving model to ./best_efficientnetv2s_model_epoch=11_acc=0.9061.h5\n",
            "302/302 [==============================] - 384s 1s/step - loss: 0.0297 - accuracy: 0.9910 - val_loss: 0.4988 - val_accuracy: 0.9061\n",
            "Epoch 12/13\n",
            "302/302 [==============================] - ETA: 0s - loss: 0.0281 - accuracy: 0.9916\n",
            "Epoch 12: val_accuracy did not improve from 0.90608\n",
            "302/302 [==============================] - 443s 1s/step - loss: 0.0281 - accuracy: 0.9916 - val_loss: 0.5193 - val_accuracy: 0.8953\n",
            "Epoch 13/13\n",
            "302/302 [==============================] - ETA: 0s - loss: 0.0253 - accuracy: 0.9915\n",
            "Epoch 13: val_accuracy did not improve from 0.90608\n",
            "302/302 [==============================] - 384s 1s/step - loss: 0.0253 - accuracy: 0.9915 - val_loss: 0.4940 - val_accuracy: 0.9061\n"
          ]
        }
      ],
      "source": [
        "results = model.fit(train_ds, validation_data=val_ds, epochs=13, batch_size=64, callbacks=[mc])"
      ]
    },
    {
      "cell_type": "code",
      "execution_count": 21,
      "metadata": {
        "id": "9s_gUjS4aiJ2"
      },
      "outputs": [],
      "source": [
        "from keras.models import load_model\n",
        "\n",
        "model_path = '/content/drive/MyDrive/Colab Notebooks/best_efficientnetv2s_model_epoch=48_acc=0.9061.h5'\n",
        "\n",
        "model = load_model(model_path)"
      ]
    },
    {
      "cell_type": "code",
      "execution_count": 22,
      "metadata": {
        "id": "cPw05u2na3r-"
      },
      "outputs": [],
      "source": [
        "predictions = []\n",
        "y_true = []\n",
        "for img, labels in test_ds:\n",
        "    predictions.extend(model.predict_on_batch(img))\n",
        "    y_true.extend(labels.numpy())\n",
        "y_true = np.array(y_true)"
      ]
    },
    {
      "cell_type": "code",
      "execution_count": 23,
      "metadata": {
        "id": "rDcTGGVZa3u-"
      },
      "outputs": [],
      "source": [
        "y_pred = np.argmax(predictions, axis=1)"
      ]
    },
    {
      "cell_type": "code",
      "execution_count": 24,
      "metadata": {
        "colab": {
          "base_uri": "https://localhost:8080/"
        },
        "id": "-3d0Kum7a309",
        "outputId": "478a96eb-ee6c-4296-8044-ea2d76013d42"
      },
      "outputs": [
        {
          "name": "stdout",
          "output_type": "stream",
          "text": [
            "              precision    recall  f1-score   support\n",
            "\n",
            "           0       0.91      0.84      0.87        50\n",
            "           1       1.00      0.90      0.95        39\n",
            "           2       0.67      1.00      0.80        24\n",
            "           3       0.91      0.94      0.92        31\n",
            "           4       0.91      0.94      0.93        34\n",
            "           5       0.89      0.97      0.93        35\n",
            "           6       0.81      0.96      0.88        23\n",
            "           7       1.00      1.00      1.00        26\n",
            "           8       0.94      0.89      0.91        35\n",
            "           9       0.93      0.96      0.95        28\n",
            "          10       1.00      0.96      0.98        23\n",
            "          11       0.91      1.00      0.95        29\n",
            "          12       0.92      1.00      0.96        24\n",
            "          13       0.81      1.00      0.89        17\n",
            "          14       0.97      0.85      0.91        34\n",
            "          15       0.96      0.96      0.96        28\n",
            "          16       0.95      0.91      0.93        23\n",
            "          17       0.92      0.92      0.92        37\n",
            "          18       0.88      0.85      0.86        26\n",
            "          19       0.95      0.95      0.95        21\n",
            "          20       0.86      0.86      0.86        21\n",
            "          21       0.89      1.00      0.94        24\n",
            "          22       0.92      0.89      0.91        38\n",
            "          23       0.88      1.00      0.94        30\n",
            "          24       0.90      0.97      0.94        37\n",
            "          25       0.96      0.92      0.94        25\n",
            "          26       0.93      0.84      0.89        32\n",
            "          27       1.00      0.94      0.97        35\n",
            "          28       0.89      0.89      0.89        27\n",
            "          29       0.89      0.89      0.89        28\n",
            "          30       0.92      0.89      0.91        38\n",
            "          31       0.79      0.96      0.87        24\n",
            "          32       0.97      0.94      0.95        32\n",
            "          33       1.00      0.87      0.93        31\n",
            "          34       1.00      0.96      0.98        24\n",
            "          35       0.96      0.96      0.96        28\n",
            "          36       0.91      0.91      0.91        32\n",
            "          37       0.84      0.96      0.90        28\n",
            "          38       0.89      0.97      0.93        33\n",
            "          39       0.92      1.00      0.96        23\n",
            "          40       1.00      0.91      0.95        33\n",
            "          41       0.91      1.00      0.95        29\n",
            "          42       1.00      0.95      0.98        21\n",
            "          43       1.00      0.86      0.92        28\n",
            "          44       0.97      0.82      0.89        40\n",
            "          45       0.79      0.90      0.84        21\n",
            "          46       0.83      0.83      0.83        18\n",
            "          47       0.90      1.00      0.95        19\n",
            "          48       1.00      1.00      1.00        23\n",
            "          49       1.00      0.97      0.99        34\n",
            "          50       1.00      0.72      0.84        18\n",
            "          51       0.96      0.84      0.90        32\n",
            "          52       1.00      0.85      0.92        20\n",
            "          53       0.93      1.00      0.96        27\n",
            "          54       0.97      1.00      0.98        29\n",
            "          55       1.00      0.91      0.95        23\n",
            "          56       1.00      0.84      0.91        31\n",
            "          57       0.94      0.94      0.94        32\n",
            "          58       0.94      0.91      0.92        32\n",
            "          59       0.83      0.86      0.84        28\n",
            "          60       0.85      1.00      0.92        28\n",
            "          61       0.96      0.96      0.96        24\n",
            "          62       1.00      0.86      0.92        28\n",
            "          63       0.89      0.74      0.81        23\n",
            "          64       1.00      0.84      0.91        25\n",
            "          65       0.96      0.82      0.88        28\n",
            "          66       0.95      0.83      0.88        23\n",
            "          67       0.93      0.96      0.95        27\n",
            "          68       1.00      0.92      0.96        24\n",
            "          69       0.96      0.89      0.92        27\n",
            "          70       1.00      0.74      0.85        31\n",
            "          71       1.00      0.97      0.98        29\n",
            "          72       0.88      1.00      0.93        21\n",
            "          73       0.57      0.87      0.68        15\n",
            "          74       0.90      0.90      0.90        21\n",
            "          75       0.86      1.00      0.93        32\n",
            "          76       1.00      1.00      1.00        24\n",
            "          77       1.00      0.77      0.87        26\n",
            "          78       0.90      0.93      0.91        28\n",
            "          79       0.94      0.89      0.91        18\n",
            "          80       0.88      1.00      0.94        23\n",
            "          81       1.00      1.00      1.00        18\n",
            "          82       1.00      0.85      0.92        26\n",
            "          83       0.95      0.87      0.91        23\n",
            "          84       0.95      0.90      0.92        20\n",
            "          85       0.69      0.95      0.80        21\n",
            "          86       0.85      0.96      0.90        24\n",
            "          87       0.90      1.00      0.95        27\n",
            "          88       1.00      0.74      0.85        23\n",
            "          89       0.92      0.80      0.86        15\n",
            "          90       0.88      0.96      0.92        23\n",
            "          91       0.89      0.74      0.81        23\n",
            "          92       0.87      0.95      0.91        21\n",
            "          93       0.71      0.92      0.80        24\n",
            "          94       0.89      0.85      0.87        20\n",
            "          95       0.88      0.88      0.88        17\n",
            "          96       0.92      0.92      0.92        25\n",
            "          97       1.00      0.96      0.98        25\n",
            "          98       0.79      0.83      0.81        23\n",
            "          99       0.86      0.86      0.86        22\n",
            "         100       0.86      0.82      0.84        22\n",
            "         101       0.89      0.71      0.79        24\n",
            "         102       0.90      1.00      0.95        26\n",
            "         103       0.96      0.96      0.96        25\n",
            "         104       0.71      0.81      0.76        21\n",
            "         105       0.92      0.97      0.94        35\n",
            "         106       0.95      0.83      0.88        23\n",
            "         107       0.81      0.91      0.86        23\n",
            "         108       0.88      0.96      0.92        23\n",
            "         109       0.84      0.89      0.86        36\n",
            "         110       0.83      0.96      0.89        26\n",
            "         111       0.95      0.72      0.82        29\n",
            "         112       1.00      0.81      0.90        16\n",
            "         113       0.84      0.80      0.82        20\n",
            "         114       0.69      0.91      0.78        22\n",
            "         115       1.00      0.90      0.95        21\n",
            "         116       0.87      0.96      0.91        27\n",
            "         117       0.74      0.87      0.80        23\n",
            "         118       0.85      0.88      0.87        26\n",
            "         119       0.59      1.00      0.74        17\n",
            "         120       0.82      0.82      0.82        22\n",
            "         121       0.61      0.78      0.68        18\n",
            "         122       0.94      0.88      0.91        33\n",
            "         123       0.93      0.93      0.93        28\n",
            "         124       0.87      0.93      0.90        29\n",
            "         125       0.85      0.71      0.77        24\n",
            "         126       0.95      0.88      0.91        41\n",
            "         127       1.00      1.00      1.00        25\n",
            "         128       0.83      1.00      0.90        19\n",
            "         129       0.93      0.64      0.76        22\n",
            "         130       0.96      0.96      0.96        26\n",
            "         131       0.89      0.94      0.92        35\n",
            "         132       1.00      0.97      0.98        30\n",
            "         133       0.96      0.96      0.96        26\n",
            "         134       0.92      0.97      0.95        37\n",
            "         135       0.78      0.70      0.74        20\n",
            "         136       0.83      0.79      0.81        19\n",
            "         137       0.65      0.74      0.69        23\n",
            "         138       1.00      0.92      0.96        25\n",
            "         139       0.98      0.88      0.92        48\n",
            "         140       0.82      0.75      0.78        24\n",
            "         141       0.96      0.92      0.94        24\n",
            "         142       0.96      1.00      0.98        24\n",
            "         143       0.83      1.00      0.91        25\n",
            "         144       0.89      0.84      0.86        19\n",
            "         145       0.92      0.88      0.90        25\n",
            "         146       0.81      0.71      0.76        31\n",
            "         147       0.93      0.65      0.76        20\n",
            "         148       0.83      0.89      0.86        28\n",
            "         149       0.92      0.67      0.77        18\n",
            "         150       0.93      0.68      0.79        19\n",
            "         151       0.60      0.86      0.71        21\n",
            "         152       0.80      0.84      0.82        19\n",
            "         153       0.82      0.88      0.85        16\n",
            "         154       0.90      0.96      0.93        27\n",
            "         155       0.96      0.89      0.93        28\n",
            "         156       0.82      0.82      0.82        28\n",
            "         157       0.88      0.70      0.78        20\n",
            "         158       0.79      0.92      0.85        36\n",
            "         159       0.93      0.93      0.93        27\n",
            "         160       0.88      0.90      0.89        31\n",
            "         161       0.86      0.78      0.82        23\n",
            "         162       0.76      0.87      0.81        15\n",
            "         163       0.92      0.67      0.77        18\n",
            "\n",
            "    accuracy                           0.90      4261\n",
            "   macro avg       0.90      0.89      0.89      4261\n",
            "weighted avg       0.91      0.90      0.90      4261\n",
            "\n"
          ]
        }
      ],
      "source": [
        "from sklearn.metrics import classification_report\n",
        "\n",
        "report = classification_report(y_true, y_pred)\n",
        "print(report)"
      ]
    }
  ],
  "metadata": {
    "accelerator": "GPU",
    "colab": {
      "gpuType": "T4",
      "provenance": []
    },
    "kernelspec": {
      "display_name": "Python 3",
      "name": "python3"
    },
    "language_info": {
      "name": "python"
    }
  },
  "nbformat": 4,
  "nbformat_minor": 0
}
