{
  "cells": [
    {
      "cell_type": "markdown",
      "metadata": {
        "id": "in_IdsyJZWYO"
      },
      "source": [
        "### Model Training"
      ]
    },
    {
      "cell_type": "code",
      "execution_count": 26,
      "metadata": {
        "colab": {
          "base_uri": "https://localhost:8080/"
        },
        "id": "xon3-iDLY3n-",
        "outputId": "7de229d6-5b15-4ffa-9d1e-d4d78bfc2d9e"
      },
      "outputs": [
        {
          "name": "stdout",
          "output_type": "stream",
          "text": [
            "Drive already mounted at /content/drive; to attempt to forcibly remount, call drive.mount(\"/content/drive\", force_remount=True).\n"
          ]
        }
      ],
      "source": [
        "from google.colab import drive\n",
        "drive.mount('/content/drive')"
      ]
    },
    {
      "cell_type": "code",
      "execution_count": 27,
      "metadata": {
        "id": "qvhV_HyGZYhL"
      },
      "outputs": [],
      "source": [
        "import numpy as np\n",
        "import os\n",
        "import PIL\n",
        "import PIL.Image\n",
        "import tensorflow as tf\n",
        "import tensorflow_datasets as tfds"
      ]
    },
    {
      "cell_type": "code",
      "execution_count": 28,
      "metadata": {
        "id": "NECFEDekZYj3"
      },
      "outputs": [],
      "source": [
        "DATA_DIR = '/content/drive/MyDrive/EarVN1.0 dataset/Images'\n",
        "IMG_HEIGHT = 224\n",
        "IMG_WIDTH = 224\n",
        "BATCH_SIZE = 64"
      ]
    },
    {
      "cell_type": "code",
      "execution_count": 29,
      "metadata": {
        "colab": {
          "base_uri": "https://localhost:8080/"
        },
        "id": "9pKxLv-KZYeL",
        "outputId": "d0232f29-f9de-437e-e419-57584e184c4c"
      },
      "outputs": [
        {
          "name": "stdout",
          "output_type": "stream",
          "text": [
            "Found 28412 files belonging to 164 classes.\n",
            "Using 24151 files for training.\n"
          ]
        }
      ],
      "source": [
        "train_val_ds = tf.keras.utils.image_dataset_from_directory(\n",
        "  DATA_DIR,\n",
        "  validation_split=0.15,\n",
        "  label_mode='int',\n",
        "  subset=\"training\",\n",
        "  seed=999,\n",
        "  image_size=(IMG_HEIGHT, IMG_WIDTH),\n",
        "  batch_size=BATCH_SIZE)"
      ]
    },
    {
      "cell_type": "code",
      "execution_count": 30,
      "metadata": {
        "colab": {
          "base_uri": "https://localhost:8080/"
        },
        "id": "6lTiypiuZYmq",
        "outputId": "2ad203cf-4057-49b7-fe81-2082f5d1fafa"
      },
      "outputs": [
        {
          "name": "stdout",
          "output_type": "stream",
          "text": [
            "Found 28412 files belonging to 164 classes.\n",
            "Using 4261 files for validation.\n"
          ]
        }
      ],
      "source": [
        "test_ds = tf.keras.utils.image_dataset_from_directory(\n",
        "  DATA_DIR,\n",
        "  validation_split=0.15,\n",
        "  label_mode='int',\n",
        "  subset=\"validation\",\n",
        "  seed=999,\n",
        "  image_size=(IMG_HEIGHT, IMG_WIDTH),\n",
        "  batch_size=BATCH_SIZE)"
      ]
    },
    {
      "cell_type": "code",
      "execution_count": 31,
      "metadata": {
        "colab": {
          "base_uri": "https://localhost:8080/"
        },
        "id": "_CFfO8CpZYpM",
        "outputId": "148764fa-0c83-4391-c242-f9d0c291fca9"
      },
      "outputs": [
        {
          "data": {
            "text/plain": [
              "<tf.Tensor: shape=(), dtype=int64, numpy=378>"
            ]
          },
          "execution_count": 31,
          "metadata": {},
          "output_type": "execute_result"
        }
      ],
      "source": [
        "train_val_batches = tf.data.experimental.cardinality(train_val_ds)\n",
        "train_val_batches"
      ]
    },
    {
      "cell_type": "code",
      "execution_count": 32,
      "metadata": {
        "colab": {
          "base_uri": "https://localhost:8080/"
        },
        "id": "uYvjqgjVZqOz",
        "outputId": "9d49d04e-ce96-4ed1-cab9-d0d830caec41"
      },
      "outputs": [
        {
          "name": "stdout",
          "output_type": "stream",
          "text": [
            "378\n",
            "302\n",
            "76\n"
          ]
        }
      ],
      "source": [
        "TOTAL_TRAIN_VAL = len(train_val_ds)\n",
        "print(TOTAL_TRAIN_VAL)\n",
        "train_ds = train_val_ds.take(int(8 * train_val_batches / 10))\n",
        "val_ds = train_val_ds.skip(int(8 * train_val_batches / 10))\n",
        "print(len(train_ds))\n",
        "print(len(val_ds))"
      ]
    },
    {
      "cell_type": "code",
      "execution_count": 33,
      "metadata": {
        "colab": {
          "base_uri": "https://localhost:8080/"
        },
        "id": "EyRlm-FNZqRs",
        "outputId": "20ef2733-5ee8-4ee5-eff9-c5a385c23dc9"
      },
      "outputs": [
        {
          "data": {
            "text/plain": [
              "<_TakeDataset element_spec=(TensorSpec(shape=(None, 224, 224, 3), dtype=tf.float32, name=None), TensorSpec(shape=(None,), dtype=tf.int32, name=None))>"
            ]
          },
          "execution_count": 33,
          "metadata": {},
          "output_type": "execute_result"
        }
      ],
      "source": [
        "train_ds"
      ]
    },
    {
      "cell_type": "code",
      "execution_count": null,
      "metadata": {
        "colab": {
          "base_uri": "https://localhost:8080/"
        },
        "id": "g8MS7ZAbZq3p",
        "outputId": "1e262d01-eb20-4d7b-9ac9-72a65ff59a71"
      },
      "outputs": [
        {
          "name": "stdout",
          "output_type": "stream",
          "text": [
            "Downloading data from https://storage.googleapis.com/tensorflow/keras-applications/resnet/resnet50v2_weights_tf_dim_ordering_tf_kernels_notop.h5\n",
            "94668760/94668760 [==============================] - 0s 0us/step\n"
          ]
        }
      ],
      "source": [
        "base_model_ResNet50V2 = tf.keras.applications.resnet_v2.ResNet50V2(\n",
        "    include_top=False,\n",
        "    weights='imagenet',\n",
        "    input_shape=(224, 224, 3)\n",
        ")"
      ]
    },
    {
      "cell_type": "code",
      "execution_count": null,
      "metadata": {
        "id": "G3W495SgaiCJ"
      },
      "outputs": [],
      "source": [
        "from tensorflow.keras.optimizers import RMSprop\n",
        "from keras.preprocessing import image\n",
        "from tensorflow.keras.preprocessing.image import ImageDataGenerator\n",
        "from tensorflow.keras.layers import Dense, Flatten, Conv2D, MaxPooling2D, Dropout, BatchNormalization, GlobalAveragePooling2D, GlobalMaxPooling2D\n",
        "\n",
        "model = tf.keras.Sequential()\n",
        "model.add(base_model_ResNet50V2)\n",
        "model.add(GlobalMaxPooling2D())\n",
        "model.add(Dense(4096, activation = 'relu'))\n",
        "model.add(Dropout(0.2))\n",
        "model.add(Dense(164, activation = 'softmax'))"
      ]
    },
    {
      "cell_type": "code",
      "execution_count": null,
      "metadata": {
        "colab": {
          "base_uri": "https://localhost:8080/"
        },
        "id": "ORtYvzNDaiEw",
        "outputId": "82e82bb9-4eec-4e25-fa87-c04848fb27ef"
      },
      "outputs": [
        {
          "name": "stdout",
          "output_type": "stream",
          "text": [
            "Model: \"sequential\"\n",
            "_________________________________________________________________\n",
            " Layer (type)                Output Shape              Param #   \n",
            "=================================================================\n",
            " resnet50v2 (Functional)     (None, 7, 7, 2048)        23564800  \n",
            "                                                                 \n",
            " global_max_pooling2d (Glob  (None, 2048)              0         \n",
            " alMaxPooling2D)                                                 \n",
            "                                                                 \n",
            " dense (Dense)               (None, 4096)              8392704   \n",
            "                                                                 \n",
            " dropout (Dropout)           (None, 4096)              0         \n",
            "                                                                 \n",
            " dense_1 (Dense)             (None, 164)               671908    \n",
            "                                                                 \n",
            "=================================================================\n",
            "Total params: 32629412 (124.47 MB)\n",
            "Trainable params: 32583972 (124.30 MB)\n",
            "Non-trainable params: 45440 (177.50 KB)\n",
            "_________________________________________________________________\n"
          ]
        }
      ],
      "source": [
        "model.summary()"
      ]
    },
    {
      "cell_type": "code",
      "execution_count": null,
      "metadata": {
        "id": "B6yyxbSwaiHS"
      },
      "outputs": [],
      "source": [
        "from tensorflow.keras import optimizers, losses\n",
        "model.compile(optimizer=optimizers.Adam(learning_rate=3e-4), loss='sparse_categorical_crossentropy', metrics='accuracy')"
      ]
    },
    {
      "cell_type": "code",
      "execution_count": null,
      "metadata": {
        "id": "iKWCDNLBao-G"
      },
      "outputs": [],
      "source": [
        "from tensorflow.keras.callbacks import ModelCheckpoint\n",
        "mc = ModelCheckpoint(\n",
        "    filepath='./best_resnet50v2_model_epoch={epoch:02d}_acc={val_accuracy:0.4f}.h5',\n",
        "    monitor=\"val_accuracy\",\n",
        "    verbose=1,\n",
        "    save_best_only=True,\n",
        "    save_weights_only=False,\n",
        "    mode='max',\n",
        "    save_freq='epoch'\n",
        ")"
      ]
    },
    {
      "cell_type": "code",
      "execution_count": null,
      "metadata": {
        "colab": {
          "base_uri": "https://localhost:8080/"
        },
        "id": "p-evULrEapA5",
        "outputId": "0bd9b9da-38ff-4acf-b9c5-0d435a88fa12"
      },
      "outputs": [
        {
          "name": "stdout",
          "output_type": "stream",
          "text": [
            "Epoch 1/50\n",
            "302/302 [==============================] - ETA: 0s - loss: 4.8413 - accuracy: 0.0629 \n",
            "Epoch 1: val_accuracy improved from -inf to 0.11072, saving model to ./best_resnet50v2_model_epoch=01_acc=0.1107.h5\n"
          ]
        },
        {
          "name": "stderr",
          "output_type": "stream",
          "text": [
            "/usr/local/lib/python3.10/dist-packages/keras/src/engine/training.py:3103: UserWarning: You are saving your model as an HDF5 file via `model.save()`. This file format is considered legacy. We recommend using instead the native Keras format, e.g. `model.save('my_model.keras')`.\n",
            "  saving_api.save_model(\n"
          ]
        },
        {
          "name": "stdout",
          "output_type": "stream",
          "text": [
            "302/302 [==============================] - 4388s 14s/step - loss: 4.8413 - accuracy: 0.0629 - val_loss: 4.4856 - val_accuracy: 0.1107\n",
            "Epoch 2/50\n",
            "302/302 [==============================] - ETA: 0s - loss: 2.5908 - accuracy: 0.3634\n",
            "Epoch 2: val_accuracy improved from 0.11072 to 0.37549, saving model to ./best_resnet50v2_model_epoch=02_acc=0.3755.h5\n",
            "302/302 [==============================] - 245s 806ms/step - loss: 2.5908 - accuracy: 0.3634 - val_loss: 2.6168 - val_accuracy: 0.3755\n",
            "Epoch 3/50\n",
            "302/302 [==============================] - ETA: 0s - loss: 1.2554 - accuracy: 0.6615\n",
            "Epoch 3: val_accuracy improved from 0.37549 to 0.57869, saving model to ./best_resnet50v2_model_epoch=03_acc=0.5787.h5\n",
            "302/302 [==============================] - 243s 801ms/step - loss: 1.2554 - accuracy: 0.6615 - val_loss: 1.6570 - val_accuracy: 0.5787\n",
            "Epoch 4/50\n",
            "302/302 [==============================] - ETA: 0s - loss: 0.6274 - accuracy: 0.8202\n",
            "Epoch 4: val_accuracy did not improve from 0.57869\n",
            "302/302 [==============================] - 229s 754ms/step - loss: 0.6274 - accuracy: 0.8202 - val_loss: 2.6494 - val_accuracy: 0.4352\n",
            "Epoch 5/50\n",
            "302/302 [==============================] - ETA: 0s - loss: 0.4013 - accuracy: 0.8792\n",
            "Epoch 5: val_accuracy improved from 0.57869 to 0.65208, saving model to ./best_resnet50v2_model_epoch=05_acc=0.6521.h5\n",
            "302/302 [==============================] - 246s 812ms/step - loss: 0.4013 - accuracy: 0.8792 - val_loss: 1.5109 - val_accuracy: 0.6521\n",
            "Epoch 6/50\n",
            "302/302 [==============================] - ETA: 0s - loss: 0.2738 - accuracy: 0.9157\n",
            "Epoch 6: val_accuracy did not improve from 0.65208\n",
            "302/302 [==============================] - 243s 801ms/step - loss: 0.2738 - accuracy: 0.9157 - val_loss: 1.7531 - val_accuracy: 0.6388\n",
            "Epoch 7/50\n",
            "302/302 [==============================] - ETA: 0s - loss: 0.2266 - accuracy: 0.9308\n",
            "Epoch 7: val_accuracy improved from 0.65208 to 0.65271, saving model to ./best_resnet50v2_model_epoch=07_acc=0.6527.h5\n",
            "302/302 [==============================] - 248s 816ms/step - loss: 0.2266 - accuracy: 0.9308 - val_loss: 1.5188 - val_accuracy: 0.6527\n",
            "Epoch 8/50\n",
            "302/302 [==============================] - ETA: 0s - loss: 0.2019 - accuracy: 0.9366\n",
            "Epoch 8: val_accuracy did not improve from 0.65271\n",
            "302/302 [==============================] - 237s 780ms/step - loss: 0.2019 - accuracy: 0.9366 - val_loss: 2.1554 - val_accuracy: 0.5650\n",
            "Epoch 9/50\n",
            "302/302 [==============================] - ETA: 0s - loss: 0.1729 - accuracy: 0.9475\n",
            "Epoch 9: val_accuracy did not improve from 0.65271\n",
            "302/302 [==============================] - 232s 764ms/step - loss: 0.1729 - accuracy: 0.9475 - val_loss: 1.8098 - val_accuracy: 0.6106\n",
            "Epoch 10/50\n",
            "302/302 [==============================] - ETA: 0s - loss: 0.1729 - accuracy: 0.9461\n",
            "Epoch 10: val_accuracy improved from 0.65271 to 0.67966, saving model to ./best_resnet50v2_model_epoch=10_acc=0.6797.h5\n",
            "302/302 [==============================] - 237s 781ms/step - loss: 0.1729 - accuracy: 0.9461 - val_loss: 1.5428 - val_accuracy: 0.6797\n",
            "Epoch 11/50\n",
            "302/302 [==============================] - ETA: 0s - loss: 0.1618 - accuracy: 0.9482\n",
            "Epoch 11: val_accuracy did not improve from 0.67966\n",
            "302/302 [==============================] - 241s 791ms/step - loss: 0.1618 - accuracy: 0.9482 - val_loss: 1.7708 - val_accuracy: 0.6199\n",
            "Epoch 12/50\n",
            "302/302 [==============================] - ETA: 0s - loss: 0.1430 - accuracy: 0.9547\n",
            "Epoch 12: val_accuracy did not improve from 0.67966\n",
            "302/302 [==============================] - 231s 762ms/step - loss: 0.1430 - accuracy: 0.9547 - val_loss: 1.8751 - val_accuracy: 0.6210\n",
            "Epoch 13/50\n",
            "302/302 [==============================] - ETA: 0s - loss: 0.1073 - accuracy: 0.9659\n",
            "Epoch 13: val_accuracy did not improve from 0.67966\n",
            "302/302 [==============================] - 235s 774ms/step - loss: 0.1073 - accuracy: 0.9659 - val_loss: 1.9396 - val_accuracy: 0.6187\n",
            "Epoch 14/50\n",
            "302/302 [==============================] - ETA: 0s - loss: 0.1335 - accuracy: 0.9589\n",
            "Epoch 14: val_accuracy improved from 0.67966 to 0.70122, saving model to ./best_resnet50v2_model_epoch=14_acc=0.7012.h5\n",
            "302/302 [==============================] - 250s 823ms/step - loss: 0.1335 - accuracy: 0.9589 - val_loss: 1.5300 - val_accuracy: 0.7012\n",
            "Epoch 15/50\n",
            "302/302 [==============================] - ETA: 0s - loss: 0.1265 - accuracy: 0.9607\n",
            "Epoch 15: val_accuracy did not improve from 0.70122\n",
            "302/302 [==============================] - 233s 766ms/step - loss: 0.1265 - accuracy: 0.9607 - val_loss: 1.6920 - val_accuracy: 0.6792\n",
            "Epoch 16/50\n",
            "302/302 [==============================] - ETA: 0s - loss: 0.1128 - accuracy: 0.9633\n",
            "Epoch 16: val_accuracy improved from 0.70122 to 0.74165, saving model to ./best_resnet50v2_model_epoch=16_acc=0.7417.h5\n",
            "302/302 [==============================] - 238s 783ms/step - loss: 0.1128 - accuracy: 0.9633 - val_loss: 1.2869 - val_accuracy: 0.7417\n",
            "Epoch 17/50\n",
            "302/302 [==============================] - ETA: 0s - loss: 0.1122 - accuracy: 0.9648\n",
            "Epoch 17: val_accuracy did not improve from 0.74165\n",
            "302/302 [==============================] - 231s 760ms/step - loss: 0.1122 - accuracy: 0.9648 - val_loss: 1.3729 - val_accuracy: 0.7336\n",
            "Epoch 18/50\n",
            "302/302 [==============================] - ETA: 0s - loss: 0.0918 - accuracy: 0.9701\n",
            "Epoch 18: val_accuracy did not improve from 0.74165\n",
            "302/302 [==============================] - 236s 779ms/step - loss: 0.0918 - accuracy: 0.9701 - val_loss: 1.6304 - val_accuracy: 0.6782\n",
            "Epoch 19/50\n",
            "302/302 [==============================] - ETA: 0s - loss: 0.0926 - accuracy: 0.9710\n",
            "Epoch 19: val_accuracy did not improve from 0.74165\n",
            "302/302 [==============================] - 239s 786ms/step - loss: 0.0926 - accuracy: 0.9710 - val_loss: 1.5169 - val_accuracy: 0.7162\n",
            "Epoch 20/50\n",
            "302/302 [==============================] - ETA: 0s - loss: 0.1050 - accuracy: 0.9680\n",
            "Epoch 20: val_accuracy did not improve from 0.74165\n",
            "302/302 [==============================] - 242s 798ms/step - loss: 0.1050 - accuracy: 0.9680 - val_loss: 1.5177 - val_accuracy: 0.6991\n",
            "Epoch 21/50\n",
            "302/302 [==============================] - ETA: 0s - loss: 0.0856 - accuracy: 0.9734\n",
            "Epoch 21: val_accuracy improved from 0.74165 to 0.76280, saving model to ./best_resnet50v2_model_epoch=21_acc=0.7628.h5\n",
            "302/302 [==============================] - 242s 798ms/step - loss: 0.0856 - accuracy: 0.9734 - val_loss: 1.1983 - val_accuracy: 0.7628\n",
            "Epoch 22/50\n",
            "302/302 [==============================] - ETA: 0s - loss: 0.0874 - accuracy: 0.9738\n",
            "Epoch 22: val_accuracy did not improve from 0.76280\n",
            "302/302 [==============================] - 233s 766ms/step - loss: 0.0874 - accuracy: 0.9738 - val_loss: 1.6641 - val_accuracy: 0.6826\n",
            "Epoch 23/50\n",
            "302/302 [==============================] - ETA: 0s - loss: 0.0664 - accuracy: 0.9791\n",
            "Epoch 23: val_accuracy did not improve from 0.76280\n",
            "302/302 [==============================] - 234s 771ms/step - loss: 0.0664 - accuracy: 0.9791 - val_loss: 1.5913 - val_accuracy: 0.7130\n",
            "Epoch 24/50\n",
            "302/302 [==============================] - ETA: 0s - loss: 0.1079 - accuracy: 0.9670\n",
            "Epoch 24: val_accuracy improved from 0.76280 to 0.76425, saving model to ./best_resnet50v2_model_epoch=24_acc=0.7643.h5\n",
            "302/302 [==============================] - 249s 818ms/step - loss: 0.1079 - accuracy: 0.9670 - val_loss: 1.1545 - val_accuracy: 0.7643\n",
            "Epoch 25/50\n",
            "302/302 [==============================] - ETA: 0s - loss: 0.0791 - accuracy: 0.9744\n",
            "Epoch 25: val_accuracy did not improve from 0.76425\n",
            "302/302 [==============================] - 238s 784ms/step - loss: 0.0791 - accuracy: 0.9744 - val_loss: 1.8959 - val_accuracy: 0.6537\n",
            "Epoch 26/50\n",
            "302/302 [==============================] - ETA: 0s - loss: 0.0801 - accuracy: 0.9755\n",
            "Epoch 26: val_accuracy did not improve from 0.76425\n",
            "302/302 [==============================] - 240s 791ms/step - loss: 0.0801 - accuracy: 0.9755 - val_loss: 1.3625 - val_accuracy: 0.7290\n",
            "Epoch 27/50\n",
            "302/302 [==============================] - ETA: 0s - loss: 0.0594 - accuracy: 0.9816\n",
            "Epoch 27: val_accuracy did not improve from 0.76425\n",
            "302/302 [==============================] - 247s 814ms/step - loss: 0.0594 - accuracy: 0.9816 - val_loss: 1.5864 - val_accuracy: 0.7089\n",
            "Epoch 28/50\n",
            "302/302 [==============================] - ETA: 0s - loss: 0.0618 - accuracy: 0.9798\n",
            "Epoch 28: val_accuracy did not improve from 0.76425\n",
            "302/302 [==============================] - 233s 765ms/step - loss: 0.0618 - accuracy: 0.9798 - val_loss: 1.6218 - val_accuracy: 0.7031\n",
            "Epoch 29/50\n",
            "302/302 [==============================] - ETA: 0s - loss: 0.0677 - accuracy: 0.9794\n",
            "Epoch 29: val_accuracy did not improve from 0.76425\n",
            "302/302 [==============================] - 240s 788ms/step - loss: 0.0677 - accuracy: 0.9794 - val_loss: 1.4925 - val_accuracy: 0.7203\n",
            "Epoch 30/50\n",
            "302/302 [==============================] - ETA: 0s - loss: 0.0734 - accuracy: 0.9782\n",
            "Epoch 30: val_accuracy did not improve from 0.76425\n",
            "302/302 [==============================] - 238s 783ms/step - loss: 0.0734 - accuracy: 0.9782 - val_loss: 1.4001 - val_accuracy: 0.7261\n",
            "Epoch 31/50\n",
            "302/302 [==============================] - ETA: 0s - loss: 0.0532 - accuracy: 0.9822\n",
            "Epoch 31: val_accuracy did not improve from 0.76425\n",
            "302/302 [==============================] - 238s 784ms/step - loss: 0.0532 - accuracy: 0.9822 - val_loss: 1.3962 - val_accuracy: 0.7325\n",
            "Epoch 32/50\n",
            "302/302 [==============================] - ETA: 0s - loss: 0.0778 - accuracy: 0.9774\n",
            "Epoch 32: val_accuracy did not improve from 0.76425\n",
            "302/302 [==============================] - 237s 782ms/step - loss: 0.0778 - accuracy: 0.9774 - val_loss: 1.2556 - val_accuracy: 0.7508\n",
            "Epoch 33/50\n",
            "302/302 [==============================] - ETA: 0s - loss: 0.0606 - accuracy: 0.9799\n",
            "Epoch 33: val_accuracy did not improve from 0.76425\n",
            "302/302 [==============================] - 239s 786ms/step - loss: 0.0606 - accuracy: 0.9799 - val_loss: 1.2767 - val_accuracy: 0.7572\n",
            "Epoch 34/50\n",
            "302/302 [==============================] - ETA: 0s - loss: 0.0602 - accuracy: 0.9806\n",
            "Epoch 34: val_accuracy did not improve from 0.76425\n",
            "302/302 [==============================] - 249s 820ms/step - loss: 0.0602 - accuracy: 0.9806 - val_loss: 1.2767 - val_accuracy: 0.7549\n",
            "Epoch 35/50\n",
            "302/302 [==============================] - ETA: 0s - loss: 0.0512 - accuracy: 0.9840\n",
            "Epoch 35: val_accuracy did not improve from 0.76425\n",
            "302/302 [==============================] - 240s 792ms/step - loss: 0.0512 - accuracy: 0.9840 - val_loss: 2.1232 - val_accuracy: 0.6450\n",
            "Epoch 36/50\n",
            "302/302 [==============================] - ETA: 0s - loss: 0.0600 - accuracy: 0.9815\n",
            "Epoch 36: val_accuracy did not improve from 0.76425\n",
            "302/302 [==============================] - 241s 796ms/step - loss: 0.0600 - accuracy: 0.9815 - val_loss: 1.4606 - val_accuracy: 0.7162\n",
            "Epoch 37/50\n",
            "302/302 [==============================] - ETA: 0s - loss: 0.0536 - accuracy: 0.9839\n",
            "Epoch 37: val_accuracy did not improve from 0.76425\n",
            "302/302 [==============================] - 248s 818ms/step - loss: 0.0536 - accuracy: 0.9839 - val_loss: 1.3002 - val_accuracy: 0.7584\n",
            "Epoch 38/50\n",
            "302/302 [==============================] - ETA: 0s - loss: 0.0485 - accuracy: 0.9848\n",
            "Epoch 38: val_accuracy did not improve from 0.76425\n",
            "302/302 [==============================] - 240s 789ms/step - loss: 0.0485 - accuracy: 0.9848 - val_loss: 1.2899 - val_accuracy: 0.7578\n",
            "Epoch 39/50\n",
            "302/302 [==============================] - ETA: 0s - loss: 0.0534 - accuracy: 0.9829\n",
            "Epoch 39: val_accuracy did not improve from 0.76425\n",
            "302/302 [==============================] - 240s 792ms/step - loss: 0.0534 - accuracy: 0.9829 - val_loss: 1.5355 - val_accuracy: 0.7226\n",
            "Epoch 40/50\n",
            "302/302 [==============================] - ETA: 0s - loss: 0.0596 - accuracy: 0.9817\n",
            "Epoch 40: val_accuracy improved from 0.76425 to 0.79494, saving model to ./best_resnet50v2_model_epoch=40_acc=0.7949.h5\n",
            "302/302 [==============================] - 243s 801ms/step - loss: 0.0596 - accuracy: 0.9817 - val_loss: 1.1629 - val_accuracy: 0.7949\n",
            "Epoch 41/50\n",
            "302/302 [==============================] - ETA: 0s - loss: 0.0562 - accuracy: 0.9822\n",
            "Epoch 41: val_accuracy did not improve from 0.79494\n",
            "302/302 [==============================] - 248s 815ms/step - loss: 0.0562 - accuracy: 0.9822 - val_loss: 1.6207 - val_accuracy: 0.7170\n",
            "Epoch 42/50\n",
            "302/302 [==============================] - ETA: 0s - loss: 0.0445 - accuracy: 0.9867\n",
            "Epoch 42: val_accuracy did not improve from 0.79494\n",
            "302/302 [==============================] - 233s 766ms/step - loss: 0.0445 - accuracy: 0.9867 - val_loss: 1.3530 - val_accuracy: 0.7421\n",
            "Epoch 43/50\n",
            "302/302 [==============================] - ETA: 0s - loss: 0.0456 - accuracy: 0.9868\n",
            "Epoch 43: val_accuracy did not improve from 0.79494\n",
            "302/302 [==============================] - 238s 783ms/step - loss: 0.0456 - accuracy: 0.9868 - val_loss: 1.3400 - val_accuracy: 0.7582\n",
            "Epoch 44/50\n",
            "302/302 [==============================] - ETA: 0s - loss: 0.0561 - accuracy: 0.9823\n",
            "Epoch 44: val_accuracy did not improve from 0.79494\n",
            "302/302 [==============================] - 249s 820ms/step - loss: 0.0561 - accuracy: 0.9823 - val_loss: 1.4294 - val_accuracy: 0.7495\n",
            "Epoch 45/50\n",
            "302/302 [==============================] - ETA: 0s - loss: 0.0543 - accuracy: 0.9839\n",
            "Epoch 45: val_accuracy did not improve from 0.79494\n",
            "302/302 [==============================] - 248s 817ms/step - loss: 0.0543 - accuracy: 0.9839 - val_loss: 1.5458 - val_accuracy: 0.7288\n",
            "Epoch 46/50\n",
            "302/302 [==============================] - ETA: 0s - loss: 0.0516 - accuracy: 0.9842\n",
            "Epoch 46: val_accuracy did not improve from 0.79494\n",
            "302/302 [==============================] - 247s 815ms/step - loss: 0.0516 - accuracy: 0.9842 - val_loss: 1.3658 - val_accuracy: 0.7543\n",
            "Epoch 47/50\n",
            "302/302 [==============================] - ETA: 0s - loss: 0.0443 - accuracy: 0.9862\n",
            "Epoch 47: val_accuracy did not improve from 0.79494\n",
            "302/302 [==============================] - 248s 819ms/step - loss: 0.0443 - accuracy: 0.9862 - val_loss: 1.2348 - val_accuracy: 0.7719\n",
            "Epoch 48/50\n",
            "302/302 [==============================] - ETA: 0s - loss: 0.0364 - accuracy: 0.9877\n",
            "Epoch 48: val_accuracy did not improve from 0.79494\n",
            "302/302 [==============================] - 249s 819ms/step - loss: 0.0364 - accuracy: 0.9877 - val_loss: 1.3300 - val_accuracy: 0.7591\n",
            "Epoch 49/50\n",
            "302/302 [==============================] - ETA: 0s - loss: 0.0366 - accuracy: 0.9883\n",
            "Epoch 49: val_accuracy did not improve from 0.79494\n",
            "302/302 [==============================] - 232s 763ms/step - loss: 0.0366 - accuracy: 0.9883 - val_loss: 1.3759 - val_accuracy: 0.7647\n",
            "Epoch 50/50\n",
            "302/302 [==============================] - ETA: 0s - loss: 0.0351 - accuracy: 0.9892\n",
            "Epoch 50: val_accuracy did not improve from 0.79494\n",
            "302/302 [==============================] - 248s 818ms/step - loss: 0.0351 - accuracy: 0.9892 - val_loss: 1.3047 - val_accuracy: 0.7769\n"
          ]
        }
      ],
      "source": [
        "results = model.fit(train_ds, validation_data=val_ds, epochs=50, batch_size=64, callbacks=[mc])"
      ]
    },
    {
      "cell_type": "code",
      "execution_count": 35,
      "metadata": {
        "id": "cPw05u2na3r-"
      },
      "outputs": [],
      "source": [
        "predictions = []\n",
        "y_true = []\n",
        "for img, labels in test_ds:\n",
        "    predictions.extend(model.predict_on_batch(img))\n",
        "    y_true.extend(labels.numpy())\n",
        "y_true = np.array(y_true)"
      ]
    },
    {
      "cell_type": "code",
      "execution_count": 36,
      "metadata": {
        "id": "rDcTGGVZa3u-"
      },
      "outputs": [],
      "source": [
        "y_pred = np.argmax(predictions, axis=1)"
      ]
    },
    {
      "cell_type": "code",
      "execution_count": 37,
      "metadata": {
        "colab": {
          "base_uri": "https://localhost:8080/"
        },
        "id": "-3d0Kum7a309",
        "outputId": "5de0e2e1-09be-49e6-af75-4caff1749a1a"
      },
      "outputs": [
        {
          "name": "stdout",
          "output_type": "stream",
          "text": [
            "              precision    recall  f1-score   support\n",
            "\n",
            "           0       0.88      0.74      0.80        50\n",
            "           1       0.89      0.85      0.87        39\n",
            "           2       0.73      0.79      0.76        24\n",
            "           3       0.92      0.77      0.84        31\n",
            "           4       0.94      0.85      0.89        34\n",
            "           5       0.85      0.80      0.82        35\n",
            "           6       0.78      0.78      0.78        23\n",
            "           7       1.00      0.62      0.76        26\n",
            "           8       0.67      0.86      0.75        35\n",
            "           9       0.93      0.96      0.95        28\n",
            "          10       0.96      0.96      0.96        23\n",
            "          11       0.87      0.93      0.90        29\n",
            "          12       0.90      0.79      0.84        24\n",
            "          13       0.74      0.82      0.78        17\n",
            "          14       0.81      0.88      0.85        34\n",
            "          15       0.96      0.86      0.91        28\n",
            "          16       0.55      0.91      0.69        23\n",
            "          17       0.81      0.81      0.81        37\n",
            "          18       0.86      0.69      0.77        26\n",
            "          19       0.67      0.95      0.78        21\n",
            "          20       0.54      0.90      0.68        21\n",
            "          21       0.87      0.83      0.85        24\n",
            "          22       0.76      0.82      0.78        38\n",
            "          23       0.74      0.97      0.84        30\n",
            "          24       0.78      0.84      0.81        37\n",
            "          25       0.66      1.00      0.79        25\n",
            "          26       0.92      0.69      0.79        32\n",
            "          27       0.96      0.77      0.86        35\n",
            "          28       0.87      0.74      0.80        27\n",
            "          29       0.88      0.75      0.81        28\n",
            "          30       0.71      0.76      0.73        38\n",
            "          31       0.90      0.38      0.53        24\n",
            "          32       0.69      0.91      0.78        32\n",
            "          33       0.80      0.90      0.85        31\n",
            "          34       0.77      0.83      0.80        24\n",
            "          35       0.71      0.96      0.82        28\n",
            "          36       0.73      0.75      0.74        32\n",
            "          37       0.81      0.75      0.78        28\n",
            "          38       0.79      0.67      0.72        33\n",
            "          39       0.94      0.74      0.83        23\n",
            "          40       0.82      0.70      0.75        33\n",
            "          41       0.74      0.90      0.81        29\n",
            "          42       0.83      0.95      0.89        21\n",
            "          43       0.90      0.93      0.91        28\n",
            "          44       0.81      0.53      0.64        40\n",
            "          45       0.94      0.71      0.81        21\n",
            "          46       0.48      0.72      0.58        18\n",
            "          47       0.74      0.89      0.81        19\n",
            "          48       0.92      0.96      0.94        23\n",
            "          49       0.96      0.74      0.83        34\n",
            "          50       0.52      0.83      0.64        18\n",
            "          51       0.71      0.75      0.73        32\n",
            "          52       0.87      0.65      0.74        20\n",
            "          53       0.96      0.85      0.90        27\n",
            "          54       0.91      1.00      0.95        29\n",
            "          55       0.49      0.96      0.65        23\n",
            "          56       0.87      0.87      0.87        31\n",
            "          57       0.94      0.91      0.92        32\n",
            "          58       1.00      0.75      0.86        32\n",
            "          59       0.91      0.71      0.80        28\n",
            "          60       0.73      0.79      0.76        28\n",
            "          61       1.00      0.83      0.91        24\n",
            "          62       0.88      0.75      0.81        28\n",
            "          63       0.67      0.61      0.64        23\n",
            "          64       0.88      0.84      0.86        25\n",
            "          65       0.65      0.86      0.74        28\n",
            "          66       0.52      0.74      0.61        23\n",
            "          67       1.00      0.74      0.85        27\n",
            "          68       0.91      0.83      0.87        24\n",
            "          69       0.95      0.67      0.78        27\n",
            "          70       0.93      0.45      0.61        31\n",
            "          71       0.96      0.90      0.93        29\n",
            "          72       0.86      0.90      0.88        21\n",
            "          73       0.64      0.47      0.54        15\n",
            "          74       0.52      0.81      0.63        21\n",
            "          75       0.66      0.91      0.76        32\n",
            "          76       0.91      0.83      0.87        24\n",
            "          77       0.77      0.65      0.71        26\n",
            "          78       0.87      0.71      0.78        28\n",
            "          79       0.77      0.94      0.85        18\n",
            "          80       0.62      0.91      0.74        23\n",
            "          81       0.82      0.78      0.80        18\n",
            "          82       0.79      0.73      0.76        26\n",
            "          83       1.00      0.70      0.82        23\n",
            "          84       0.85      0.85      0.85        20\n",
            "          85       0.85      0.81      0.83        21\n",
            "          86       0.67      0.92      0.77        24\n",
            "          87       0.69      1.00      0.82        27\n",
            "          88       0.83      0.87      0.85        23\n",
            "          89       0.65      0.87      0.74        15\n",
            "          90       0.57      0.70      0.63        23\n",
            "          91       0.78      0.61      0.68        23\n",
            "          92       0.79      0.71      0.75        21\n",
            "          93       0.78      0.58      0.67        24\n",
            "          94       0.57      0.80      0.67        20\n",
            "          95       0.86      0.71      0.77        17\n",
            "          96       0.55      0.88      0.68        25\n",
            "          97       0.95      0.80      0.87        25\n",
            "          98       0.71      0.74      0.72        23\n",
            "          99       0.94      0.77      0.85        22\n",
            "         100       0.87      0.59      0.70        22\n",
            "         101       0.83      0.62      0.71        24\n",
            "         102       0.78      0.81      0.79        26\n",
            "         103       0.85      0.88      0.86        25\n",
            "         104       0.62      0.86      0.72        21\n",
            "         105       1.00      0.80      0.89        35\n",
            "         106       0.75      0.78      0.77        23\n",
            "         107       0.80      0.87      0.83        23\n",
            "         108       0.49      1.00      0.66        23\n",
            "         109       0.92      0.64      0.75        36\n",
            "         110       0.89      0.65      0.76        26\n",
            "         111       0.81      0.72      0.76        29\n",
            "         112       0.81      0.81      0.81        16\n",
            "         113       0.78      0.70      0.74        20\n",
            "         114       0.68      0.68      0.68        22\n",
            "         115       0.94      0.76      0.84        21\n",
            "         116       0.83      0.89      0.86        27\n",
            "         117       0.76      0.83      0.79        23\n",
            "         118       0.75      0.69      0.72        26\n",
            "         119       0.87      0.76      0.81        17\n",
            "         120       0.56      0.82      0.67        22\n",
            "         121       0.59      0.72      0.65        18\n",
            "         122       0.85      0.88      0.87        33\n",
            "         123       0.92      0.82      0.87        28\n",
            "         124       0.88      0.79      0.84        29\n",
            "         125       0.63      0.71      0.67        24\n",
            "         126       0.92      0.80      0.86        41\n",
            "         127       0.91      0.84      0.87        25\n",
            "         128       1.00      0.84      0.91        19\n",
            "         129       0.76      0.59      0.67        22\n",
            "         130       0.88      0.85      0.86        26\n",
            "         131       0.90      0.77      0.83        35\n",
            "         132       0.93      0.83      0.88        30\n",
            "         133       0.67      0.85      0.75        26\n",
            "         134       1.00      0.89      0.94        37\n",
            "         135       0.59      0.85      0.69        20\n",
            "         136       0.77      0.53      0.62        19\n",
            "         137       0.88      0.65      0.75        23\n",
            "         138       0.69      0.80      0.74        25\n",
            "         139       0.95      0.83      0.89        48\n",
            "         140       0.70      0.58      0.64        24\n",
            "         141       0.77      0.83      0.80        24\n",
            "         142       0.94      0.71      0.81        24\n",
            "         143       0.76      0.88      0.81        25\n",
            "         144       0.83      0.79      0.81        19\n",
            "         145       0.81      0.84      0.82        25\n",
            "         146       0.77      0.32      0.45        31\n",
            "         147       0.52      0.60      0.56        20\n",
            "         148       0.71      0.54      0.61        28\n",
            "         149       0.80      0.22      0.35        18\n",
            "         150       0.80      0.63      0.71        19\n",
            "         151       0.67      0.76      0.71        21\n",
            "         152       0.61      0.74      0.67        19\n",
            "         153       0.81      0.81      0.81        16\n",
            "         154       0.86      0.67      0.75        27\n",
            "         155       0.76      0.79      0.77        28\n",
            "         156       0.50      0.79      0.61        28\n",
            "         157       0.61      0.55      0.58        20\n",
            "         158       0.95      0.53      0.68        36\n",
            "         159       0.64      0.93      0.76        27\n",
            "         160       0.69      0.81      0.75        31\n",
            "         161       0.71      0.65      0.68        23\n",
            "         162       0.92      0.80      0.86        15\n",
            "         163       0.63      0.67      0.65        18\n",
            "\n",
            "    accuracy                           0.78      4261\n",
            "   macro avg       0.79      0.78      0.77      4261\n",
            "weighted avg       0.80      0.78      0.78      4261\n",
            "\n"
          ]
        }
      ],
      "source": [
        "from sklearn.metrics import classification_report\n",
        "\n",
        "report = classification_report(y_true, y_pred)\n",
        "print(report)"
      ]
    },
    {
      "cell_type": "code",
      "execution_count": 38,
      "metadata": {
        "id": "XvcJb_xaa_qm"
      },
      "outputs": [],
      "source": [
        "history = results.history"
      ]
    },
    {
      "cell_type": "code",
      "execution_count": 39,
      "metadata": {
        "colab": {
          "base_uri": "https://localhost:8080/",
          "height": 472
        },
        "id": "otYNRv3ybAZW",
        "outputId": "1fd1fe60-0ef5-401c-dbad-7817670bba3e"
      },
      "outputs": [
        {
          "data": {
            "image/png": "[encoded data removed]",
            "text/plain": [
              "<Figure size 640x480 with 1 Axes>"
            ]
          },
          "metadata": {},
          "output_type": "display_data"
        }
      ],
      "source": [
        "from matplotlib import pyplot as plt\n",
        "\n",
        "plt.plot(history['accuracy'])\n",
        "plt.plot(history['val_accuracy'])\n",
        "plt.title('ResNet50V2 Accuracy')\n",
        "plt.ylabel('Accuracy')\n",
        "plt.xlabel('Epoch')\n",
        "plt.legend(['train', 'val'], loc='upper left')\n",
        "plt.show()"
      ]
    },
    {
      "cell_type": "code",
      "execution_count": null,
      "metadata": {
        "colab": {
          "base_uri": "https://localhost:8080/",
          "height": 927
        },
        "id": "y41Yd7Aca_tl",
        "outputId": "012ed76a-62a0-4cfa-8ee5-d34494b09d90"
      },
      "outputs": [
        {
          "data": {
            "image/png": "[encoded data removed]",
            "text/plain": [
              "<Figure size 640x480 with 1 Axes>"
            ]
          },
          "metadata": {},
          "output_type": "display_data"
        },
        {
          "data": {
            "image/png": "[encoded data removed]",
            "text/plain": [
              "<Figure size 640x480 with 1 Axes>"
            ]
          },
          "metadata": {},
          "output_type": "display_data"
        }
      ],
      "source": [
        "plt.plot(history['loss'])\n",
        "plt.plot(history['val_loss'])\n",
        "plt.title('ResNet50V2 Loss')\n",
        "plt.ylabel('Loss')\n",
        "plt.xlabel('Epoch')\n",
        "plt.legend(['train', 'val'], loc='upper left')\n",
        "plt.show()"
      ]
    }
  ],
  "metadata": {
    "accelerator": "GPU",
    "colab": {
      "gpuType": "T4",
      "provenance": []
    },
    "kernelspec": {
      "display_name": "Python 3",
      "name": "python3"
    },
    "language_info": {
      "name": "python"
    }
  },
  "nbformat": 4,
  "nbformat_minor": 0
}
